{
 "cells": [
  {
   "cell_type": "markdown",
   "metadata": {},
   "source": [
    "# Understanding word vectors"
   ]
  },
  {
   "cell_type": "markdown",
   "metadata": {},
   "source": [
    "## Animal similarity and simple linear algebra\n",
    "\n",
    "In order to begin understanding how the meaning of words can be encoded in a way a computer can understand, i.e. in numbers, we will start with an animal analogy.\n",
    "\n",
    "Below you will find a spreadsheet which charts the cuteness and size of animals.\n",
    "\n",
    "![Animal spreadsheet](http://static.decontextualize.com/snaps/animal-spreadsheet.png)\n",
    "\n",
    "This spreadsheet associates a handful of animals with two numbers: their cuteness and their size, both in a range from zero to one hundred. (The values themselves are subjective. Your taste in cuteness and evaluation of size may differ significantly from mine. As with all data, these data are simply a mirror reflection of the person who collected them.)\n",
    "\n",
    "From this spreadsheet, we can determine about which animals are similar (at least, similar in the properties that we've included in the data). "
   ]
  },
  {
   "cell_type": "markdown",
   "metadata": {},
   "source": [
    "## Try to answer the following question by looking at the chart: \n",
    "\n",
    "Which animal is most similar to a capybara? "
   ]
  },
  {
   "cell_type": "markdown",
   "metadata": {},
   "source": [
    "You could go through the values one by one and do the math to make that evaluation, but visualizing the data as points in 2-dimensional space makes finding the answer very intuitive:\n",
    "\n",
    "![Animal space](http://static.decontextualize.com/snaps/animal-space.png)\n",
    "\n",
    "The plot shows us that the closest animal to the capybara is the panda bear (again, in terms of its subjective size and cuteness). One way of calculating how \"far apart\" two points are is to find their *Euclidean distance*. (This is simply the length of the line that connects the two points.) For points in two dimensions, Euclidean distance can be calculated with the following Python function:"
   ]
  },
  {
   "cell_type": "code",
   "execution_count": 1,
   "metadata": {},
   "outputs": [],
   "source": [
    "import numpy as np\n",
    "def distance2d(x1, y1, x2, y2):\n",
    "    return np.linalg.norm(np.array([x1, y1])-np.array([x2, y2]))"
   ]
  },
  {
   "cell_type": "markdown",
   "metadata": {},
   "source": [
    "So, the distance between \"capybara\" (70, 30) and \"panda\" (74, 40):"
   ]
  },
  {
   "cell_type": "code",
   "execution_count": 3,
   "metadata": {},
   "outputs": [
    {
     "data": {
      "text/plain": [
       "11.180339887498949"
      ]
     },
     "execution_count": 3,
     "metadata": {},
     "output_type": "execute_result"
    }
   ],
   "source": [
    "distance2d(70, 30, 75, 40) # panda and capybara"
   ]
  },
  {
   "cell_type": "markdown",
   "metadata": {},
   "source": [
    "... is less than the distance between \"tarantula\" and \"elephant\":"
   ]
  },
  {
   "cell_type": "code",
   "execution_count": 4,
   "metadata": {},
   "outputs": [
    {
     "data": {
      "text/plain": [
       "104.0096149401583"
      ]
     },
     "execution_count": 4,
     "metadata": {},
     "output_type": "execute_result"
    }
   ],
   "source": [
    "distance2d(8, 3, 65, 90) # tarantula and elephant"
   ]
  },
  {
   "cell_type": "markdown",
   "metadata": {},
   "source": [
    "Modeling animals in this way has a few other interesting properties. For example, you can pick an arbitrary point in \"animal space\" and then find the animal closest to that point. If you imagine an animal of size 25 and cuteness 30, you can easily look at the space to find the animal that most closely fits that description: the chicken.\n",
    "\n",
    "![](images/chicken_02.jpg)\n",
    "\n",
    "Reasoning visually, you can also answer questions like: what's halfway between a chicken and an elephant? Simply draw a line from \"elephant\" to \"chicken,\" mark off the midpoint and find the closest animal. (According to our chart, halfway between an elephant and a chicken is a horse.)\n",
    "\n",
    "You can also ask: what's the *difference* between a hamster and a tarantula? According to our plot, it's about seventy five units of cute (and a few units of size).\n",
    "\n",
    "The relationship of \"difference\" is an interesting one, because it allows us to reason about *analogous* relationships. In the chart below, I've drawn an arrow from \"tarantula\" to \"hamster\" (in blue):\n",
    "\n",
    "![Animal analogy](http://static.decontextualize.com/snaps/animal-space-analogy.png)\n",
    "\n",
    "You can understand this arrow as being the *relationship* between a tarantula and a hamster, in terms of their size and cuteness (i.e., hamsters and tarantulas are about the same size, but hamsters are much cuter). In the same diagram, I've also transposed this same arrow (this time in red) so that its origin point is \"chicken.\" The arrow ends closest to \"kitten.\" What we've discovered is that the animal that is about the same size as a chicken but much cuter is... a kitten. To put it in terms of an analogy:\n",
    "\n",
    "    Tarantulas are to hamsters as chickens are to kittens.\n",
    "    \n",
    "\n",
    "A set of vectors that are all part of the same data set is often called a *vector space*. The vector space of animals in this section has two *dimensions*, by which I mean that each vector in the space has two numbers associated with it (i.e., two columns in the spreadsheet). The fact that this space has two dimensions just happens to make it easy to *visualize* the space by drawing a 2D plot. But most vector spaces you'll work with will have more than two dimensions—sometimes many hundreds. In those cases, it's more difficult to visualize the \"space,\" but the math works pretty much the same."
   ]
  },
  {
   "cell_type": "markdown",
   "metadata": {},
   "source": [
    "## Language with vectors: colors\n",
    "\n",
    "In our journey towards understanding how meaning can be mapped into space, our next stop is color.  \n",
    "\n",
    "Colors are often represented in computers as vectors with three dimensions: red, green, and blue. Just as with the animals in the previous section, we can use these vectors to answer questions like: which colors are similar? What's the most likely color name for an arbitrarily chosen set of values for red, green and blue? Given the names of two colors, what's the name of those colors' \"average\"?\n",
    "\n",
    "We'll be working with this [color data](https://github.com/dariusk/corpora/blob/master/data/colors/xkcd.json) from the [xkcd color survey](https://blog.xkcd.com/2010/05/03/color-survey-results/). The data relates a color name to the RGB value associated with that color. [Here's a page that shows what the colors look like](https://xkcd.com/color/rgb/). Download the color data and put it in the same directory as this notebook.\n",
    "\n",
    "A few notes before we proceed:\n",
    "\n",
    "* The linear algebra functions implemented below (`addv`, `meanv`, etc.) are slow, potentially inaccurate, and shouldn't be used for \"real\" code—they were written to help understand how these kinds of functions work behind the scenes. Use [numpy](http://www.numpy.org/) for fast and accurate math in Python.\n",
    "* If you're interested in perceptually accurate color math in Python, consider using the [colormath library](http://python-colormath.readthedocs.io/en/latest/).\n",
    "\n",
    "Now, import the `json` library and load the color data:"
   ]
  },
  {
   "cell_type": "code",
   "execution_count": 8,
   "metadata": {},
   "outputs": [],
   "source": [
    "import requests"
   ]
  },
  {
   "cell_type": "code",
   "execution_count": 10,
   "metadata": {
    "collapsed": true,
    "jupyter": {
     "outputs_hidden": true
    }
   },
   "outputs": [
    {
     "data": {
      "text/plain": [
       "[{'color': 'cloudy blue', 'hex': '#acc2d9'},\n",
       " {'color': 'dark pastel green', 'hex': '#56ae57'},\n",
       " {'color': 'dust', 'hex': '#b2996e'},\n",
       " {'color': 'electric lime', 'hex': '#a8ff04'},\n",
       " {'color': 'fresh green', 'hex': '#69d84f'},\n",
       " {'color': 'light eggplant', 'hex': '#894585'},\n",
       " {'color': 'nasty green', 'hex': '#70b23f'},\n",
       " {'color': 'really light blue', 'hex': '#d4ffff'},\n",
       " {'color': 'tea', 'hex': '#65ab7c'},\n",
       " {'color': 'warm purple', 'hex': '#952e8f'},\n",
       " {'color': 'yellowish tan', 'hex': '#fcfc81'},\n",
       " {'color': 'cement', 'hex': '#a5a391'},\n",
       " {'color': 'dark grass green', 'hex': '#388004'},\n",
       " {'color': 'dusty teal', 'hex': '#4c9085'},\n",
       " {'color': 'grey teal', 'hex': '#5e9b8a'},\n",
       " {'color': 'macaroni and cheese', 'hex': '#efb435'},\n",
       " {'color': 'pinkish tan', 'hex': '#d99b82'},\n",
       " {'color': 'spruce', 'hex': '#0a5f38'},\n",
       " {'color': 'strong blue', 'hex': '#0c06f7'},\n",
       " {'color': 'toxic green', 'hex': '#61de2a'},\n",
       " {'color': 'windows blue', 'hex': '#3778bf'},\n",
       " {'color': 'blue blue', 'hex': '#2242c7'},\n",
       " {'color': 'blue with a hint of purple', 'hex': '#533cc6'},\n",
       " {'color': 'booger', 'hex': '#9bb53c'},\n",
       " {'color': 'bright sea green', 'hex': '#05ffa6'},\n",
       " {'color': 'dark green blue', 'hex': '#1f6357'},\n",
       " {'color': 'deep turquoise', 'hex': '#017374'},\n",
       " {'color': 'green teal', 'hex': '#0cb577'},\n",
       " {'color': 'strong pink', 'hex': '#ff0789'},\n",
       " {'color': 'bland', 'hex': '#afa88b'},\n",
       " {'color': 'deep aqua', 'hex': '#08787f'},\n",
       " {'color': 'lavender pink', 'hex': '#dd85d7'},\n",
       " {'color': 'light moss green', 'hex': '#a6c875'},\n",
       " {'color': 'light seafoam green', 'hex': '#a7ffb5'},\n",
       " {'color': 'olive yellow', 'hex': '#c2b709'},\n",
       " {'color': 'pig pink', 'hex': '#e78ea5'},\n",
       " {'color': 'deep lilac', 'hex': '#966ebd'},\n",
       " {'color': 'desert', 'hex': '#ccad60'},\n",
       " {'color': 'dusty lavender', 'hex': '#ac86a8'},\n",
       " {'color': 'purpley grey', 'hex': '#947e94'},\n",
       " {'color': 'purply', 'hex': '#983fb2'},\n",
       " {'color': 'candy pink', 'hex': '#ff63e9'},\n",
       " {'color': 'light pastel green', 'hex': '#b2fba5'},\n",
       " {'color': 'boring green', 'hex': '#63b365'},\n",
       " {'color': 'kiwi green', 'hex': '#8ee53f'},\n",
       " {'color': 'light grey green', 'hex': '#b7e1a1'},\n",
       " {'color': 'orange pink', 'hex': '#ff6f52'},\n",
       " {'color': 'tea green', 'hex': '#bdf8a3'},\n",
       " {'color': 'very light brown', 'hex': '#d3b683'},\n",
       " {'color': 'egg shell', 'hex': '#fffcc4'},\n",
       " {'color': 'eggplant purple', 'hex': '#430541'},\n",
       " {'color': 'powder pink', 'hex': '#ffb2d0'},\n",
       " {'color': 'reddish grey', 'hex': '#997570'},\n",
       " {'color': 'baby shit brown', 'hex': '#ad900d'},\n",
       " {'color': 'liliac', 'hex': '#c48efd'},\n",
       " {'color': 'stormy blue', 'hex': '#507b9c'},\n",
       " {'color': 'ugly brown', 'hex': '#7d7103'},\n",
       " {'color': 'custard', 'hex': '#fffd78'},\n",
       " {'color': 'darkish pink', 'hex': '#da467d'},\n",
       " {'color': 'deep brown', 'hex': '#410200'},\n",
       " {'color': 'greenish beige', 'hex': '#c9d179'},\n",
       " {'color': 'manilla', 'hex': '#fffa86'},\n",
       " {'color': 'off blue', 'hex': '#5684ae'},\n",
       " {'color': 'battleship grey', 'hex': '#6b7c85'},\n",
       " {'color': 'browny green', 'hex': '#6f6c0a'},\n",
       " {'color': 'bruise', 'hex': '#7e4071'},\n",
       " {'color': 'kelley green', 'hex': '#009337'},\n",
       " {'color': 'sickly yellow', 'hex': '#d0e429'},\n",
       " {'color': 'sunny yellow', 'hex': '#fff917'},\n",
       " {'color': 'azul', 'hex': '#1d5dec'},\n",
       " {'color': 'darkgreen', 'hex': '#054907'},\n",
       " {'color': 'green/yellow', 'hex': '#b5ce08'},\n",
       " {'color': 'lichen', 'hex': '#8fb67b'},\n",
       " {'color': 'light light green', 'hex': '#c8ffb0'},\n",
       " {'color': 'pale gold', 'hex': '#fdde6c'},\n",
       " {'color': 'sun yellow', 'hex': '#ffdf22'},\n",
       " {'color': 'tan green', 'hex': '#a9be70'},\n",
       " {'color': 'burple', 'hex': '#6832e3'},\n",
       " {'color': 'butterscotch', 'hex': '#fdb147'},\n",
       " {'color': 'toupe', 'hex': '#c7ac7d'},\n",
       " {'color': 'dark cream', 'hex': '#fff39a'},\n",
       " {'color': 'indian red', 'hex': '#850e04'},\n",
       " {'color': 'light lavendar', 'hex': '#efc0fe'},\n",
       " {'color': 'poison green', 'hex': '#40fd14'},\n",
       " {'color': 'baby puke green', 'hex': '#b6c406'},\n",
       " {'color': 'bright yellow green', 'hex': '#9dff00'},\n",
       " {'color': 'charcoal grey', 'hex': '#3c4142'},\n",
       " {'color': 'squash', 'hex': '#f2ab15'},\n",
       " {'color': 'cinnamon', 'hex': '#ac4f06'},\n",
       " {'color': 'light pea green', 'hex': '#c4fe82'},\n",
       " {'color': 'radioactive green', 'hex': '#2cfa1f'},\n",
       " {'color': 'raw sienna', 'hex': '#9a6200'},\n",
       " {'color': 'baby purple', 'hex': '#ca9bf7'},\n",
       " {'color': 'cocoa', 'hex': '#875f42'},\n",
       " {'color': 'light royal blue', 'hex': '#3a2efe'},\n",
       " {'color': 'orangeish', 'hex': '#fd8d49'},\n",
       " {'color': 'rust brown', 'hex': '#8b3103'},\n",
       " {'color': 'sand brown', 'hex': '#cba560'},\n",
       " {'color': 'swamp', 'hex': '#698339'},\n",
       " {'color': 'tealish green', 'hex': '#0cdc73'},\n",
       " {'color': 'burnt siena', 'hex': '#b75203'},\n",
       " {'color': 'camo', 'hex': '#7f8f4e'},\n",
       " {'color': 'dusk blue', 'hex': '#26538d'},\n",
       " {'color': 'fern', 'hex': '#63a950'},\n",
       " {'color': 'old rose', 'hex': '#c87f89'},\n",
       " {'color': 'pale light green', 'hex': '#b1fc99'},\n",
       " {'color': 'peachy pink', 'hex': '#ff9a8a'},\n",
       " {'color': 'rosy pink', 'hex': '#f6688e'},\n",
       " {'color': 'light bluish green', 'hex': '#76fda8'},\n",
       " {'color': 'light bright green', 'hex': '#53fe5c'},\n",
       " {'color': 'light neon green', 'hex': '#4efd54'},\n",
       " {'color': 'light seafoam', 'hex': '#a0febf'},\n",
       " {'color': 'tiffany blue', 'hex': '#7bf2da'},\n",
       " {'color': 'washed out green', 'hex': '#bcf5a6'},\n",
       " {'color': 'browny orange', 'hex': '#ca6b02'},\n",
       " {'color': 'nice blue', 'hex': '#107ab0'},\n",
       " {'color': 'sapphire', 'hex': '#2138ab'},\n",
       " {'color': 'greyish teal', 'hex': '#719f91'},\n",
       " {'color': 'orangey yellow', 'hex': '#fdb915'},\n",
       " {'color': 'parchment', 'hex': '#fefcaf'},\n",
       " {'color': 'straw', 'hex': '#fcf679'},\n",
       " {'color': 'very dark brown', 'hex': '#1d0200'},\n",
       " {'color': 'terracota', 'hex': '#cb6843'},\n",
       " {'color': 'ugly blue', 'hex': '#31668a'},\n",
       " {'color': 'clear blue', 'hex': '#247afd'},\n",
       " {'color': 'creme', 'hex': '#ffffb6'},\n",
       " {'color': 'foam green', 'hex': '#90fda9'},\n",
       " {'color': 'grey/green', 'hex': '#86a17d'},\n",
       " {'color': 'light gold', 'hex': '#fddc5c'},\n",
       " {'color': 'seafoam blue', 'hex': '#78d1b6'},\n",
       " {'color': 'topaz', 'hex': '#13bbaf'},\n",
       " {'color': 'violet pink', 'hex': '#fb5ffc'},\n",
       " {'color': 'wintergreen', 'hex': '#20f986'},\n",
       " {'color': 'yellow tan', 'hex': '#ffe36e'},\n",
       " {'color': 'dark fuchsia', 'hex': '#9d0759'},\n",
       " {'color': 'indigo blue', 'hex': '#3a18b1'},\n",
       " {'color': 'light yellowish green', 'hex': '#c2ff89'},\n",
       " {'color': 'pale magenta', 'hex': '#d767ad'},\n",
       " {'color': 'rich purple', 'hex': '#720058'},\n",
       " {'color': 'sunflower yellow', 'hex': '#ffda03'},\n",
       " {'color': 'green/blue', 'hex': '#01c08d'},\n",
       " {'color': 'leather', 'hex': '#ac7434'},\n",
       " {'color': 'racing green', 'hex': '#014600'},\n",
       " {'color': 'vivid purple', 'hex': '#9900fa'},\n",
       " {'color': 'dark royal blue', 'hex': '#02066f'},\n",
       " {'color': 'hazel', 'hex': '#8e7618'},\n",
       " {'color': 'muted pink', 'hex': '#d1768f'},\n",
       " {'color': 'booger green', 'hex': '#96b403'},\n",
       " {'color': 'canary', 'hex': '#fdff63'},\n",
       " {'color': 'cool grey', 'hex': '#95a3a6'},\n",
       " {'color': 'dark taupe', 'hex': '#7f684e'},\n",
       " {'color': 'darkish purple', 'hex': '#751973'},\n",
       " {'color': 'true green', 'hex': '#089404'},\n",
       " {'color': 'coral pink', 'hex': '#ff6163'},\n",
       " {'color': 'dark sage', 'hex': '#598556'},\n",
       " {'color': 'dark slate blue', 'hex': '#214761'},\n",
       " {'color': 'flat blue', 'hex': '#3c73a8'},\n",
       " {'color': 'mushroom', 'hex': '#ba9e88'},\n",
       " {'color': 'rich blue', 'hex': '#021bf9'},\n",
       " {'color': 'dirty purple', 'hex': '#734a65'},\n",
       " {'color': 'greenblue', 'hex': '#23c48b'},\n",
       " {'color': 'icky green', 'hex': '#8fae22'},\n",
       " {'color': 'light khaki', 'hex': '#e6f2a2'},\n",
       " {'color': 'warm blue', 'hex': '#4b57db'},\n",
       " {'color': 'dark hot pink', 'hex': '#d90166'},\n",
       " {'color': 'deep sea blue', 'hex': '#015482'},\n",
       " {'color': 'carmine', 'hex': '#9d0216'},\n",
       " {'color': 'dark yellow green', 'hex': '#728f02'},\n",
       " {'color': 'pale peach', 'hex': '#ffe5ad'},\n",
       " {'color': 'plum purple', 'hex': '#4e0550'},\n",
       " {'color': 'golden rod', 'hex': '#f9bc08'},\n",
       " {'color': 'neon red', 'hex': '#ff073a'},\n",
       " {'color': 'old pink', 'hex': '#c77986'},\n",
       " {'color': 'very pale blue', 'hex': '#d6fffe'},\n",
       " {'color': 'blood orange', 'hex': '#fe4b03'},\n",
       " {'color': 'grapefruit', 'hex': '#fd5956'},\n",
       " {'color': 'sand yellow', 'hex': '#fce166'},\n",
       " {'color': 'clay brown', 'hex': '#b2713d'},\n",
       " {'color': 'dark blue grey', 'hex': '#1f3b4d'},\n",
       " {'color': 'flat green', 'hex': '#699d4c'},\n",
       " {'color': 'light green blue', 'hex': '#56fca2'},\n",
       " {'color': 'warm pink', 'hex': '#fb5581'},\n",
       " {'color': 'dodger blue', 'hex': '#3e82fc'},\n",
       " {'color': 'gross green', 'hex': '#a0bf16'},\n",
       " {'color': 'ice', 'hex': '#d6fffa'},\n",
       " {'color': 'metallic blue', 'hex': '#4f738e'},\n",
       " {'color': 'pale salmon', 'hex': '#ffb19a'},\n",
       " {'color': 'sap green', 'hex': '#5c8b15'},\n",
       " {'color': 'algae', 'hex': '#54ac68'},\n",
       " {'color': 'bluey grey', 'hex': '#89a0b0'},\n",
       " {'color': 'greeny grey', 'hex': '#7ea07a'},\n",
       " {'color': 'highlighter green', 'hex': '#1bfc06'},\n",
       " {'color': 'light light blue', 'hex': '#cafffb'},\n",
       " {'color': 'light mint', 'hex': '#b6ffbb'},\n",
       " {'color': 'raw umber', 'hex': '#a75e09'},\n",
       " {'color': 'vivid blue', 'hex': '#152eff'},\n",
       " {'color': 'deep lavender', 'hex': '#8d5eb7'},\n",
       " {'color': 'dull teal', 'hex': '#5f9e8f'},\n",
       " {'color': 'light greenish blue', 'hex': '#63f7b4'},\n",
       " {'color': 'mud green', 'hex': '#606602'},\n",
       " {'color': 'pinky', 'hex': '#fc86aa'},\n",
       " {'color': 'red wine', 'hex': '#8c0034'},\n",
       " {'color': 'shit green', 'hex': '#758000'},\n",
       " {'color': 'tan brown', 'hex': '#ab7e4c'},\n",
       " {'color': 'darkblue', 'hex': '#030764'},\n",
       " {'color': 'rosa', 'hex': '#fe86a4'},\n",
       " {'color': 'lipstick', 'hex': '#d5174e'},\n",
       " {'color': 'pale mauve', 'hex': '#fed0fc'},\n",
       " {'color': 'claret', 'hex': '#680018'},\n",
       " {'color': 'dandelion', 'hex': '#fedf08'},\n",
       " {'color': 'orangered', 'hex': '#fe420f'},\n",
       " {'color': 'poop green', 'hex': '#6f7c00'},\n",
       " {'color': 'ruby', 'hex': '#ca0147'},\n",
       " {'color': 'dark', 'hex': '#1b2431'},\n",
       " {'color': 'greenish turquoise', 'hex': '#00fbb0'},\n",
       " {'color': 'pastel red', 'hex': '#db5856'},\n",
       " {'color': 'piss yellow', 'hex': '#ddd618'},\n",
       " {'color': 'bright cyan', 'hex': '#41fdfe'},\n",
       " {'color': 'dark coral', 'hex': '#cf524e'},\n",
       " {'color': 'algae green', 'hex': '#21c36f'},\n",
       " {'color': 'darkish red', 'hex': '#a90308'},\n",
       " {'color': 'reddy brown', 'hex': '#6e1005'},\n",
       " {'color': 'blush pink', 'hex': '#fe828c'},\n",
       " {'color': 'camouflage green', 'hex': '#4b6113'},\n",
       " {'color': 'lawn green', 'hex': '#4da409'},\n",
       " {'color': 'putty', 'hex': '#beae8a'},\n",
       " {'color': 'vibrant blue', 'hex': '#0339f8'},\n",
       " {'color': 'dark sand', 'hex': '#a88f59'},\n",
       " {'color': 'purple/blue', 'hex': '#5d21d0'},\n",
       " {'color': 'saffron', 'hex': '#feb209'},\n",
       " {'color': 'twilight', 'hex': '#4e518b'},\n",
       " {'color': 'warm brown', 'hex': '#964e02'},\n",
       " {'color': 'bluegrey', 'hex': '#85a3b2'},\n",
       " {'color': 'bubble gum pink', 'hex': '#ff69af'},\n",
       " {'color': 'duck egg blue', 'hex': '#c3fbf4'},\n",
       " {'color': 'greenish cyan', 'hex': '#2afeb7'},\n",
       " {'color': 'petrol', 'hex': '#005f6a'},\n",
       " {'color': 'royal', 'hex': '#0c1793'},\n",
       " {'color': 'butter', 'hex': '#ffff81'},\n",
       " {'color': 'dusty orange', 'hex': '#f0833a'},\n",
       " {'color': 'off yellow', 'hex': '#f1f33f'},\n",
       " {'color': 'pale olive green', 'hex': '#b1d27b'},\n",
       " {'color': 'orangish', 'hex': '#fc824a'},\n",
       " {'color': 'leaf', 'hex': '#71aa34'},\n",
       " {'color': 'light blue grey', 'hex': '#b7c9e2'},\n",
       " {'color': 'dried blood', 'hex': '#4b0101'},\n",
       " {'color': 'lightish purple', 'hex': '#a552e6'},\n",
       " {'color': 'rusty red', 'hex': '#af2f0d'},\n",
       " {'color': 'lavender blue', 'hex': '#8b88f8'},\n",
       " {'color': 'light grass green', 'hex': '#9af764'},\n",
       " {'color': 'light mint green', 'hex': '#a6fbb2'},\n",
       " {'color': 'sunflower', 'hex': '#ffc512'},\n",
       " {'color': 'velvet', 'hex': '#750851'},\n",
       " {'color': 'brick orange', 'hex': '#c14a09'},\n",
       " {'color': 'lightish red', 'hex': '#fe2f4a'},\n",
       " {'color': 'pure blue', 'hex': '#0203e2'},\n",
       " {'color': 'twilight blue', 'hex': '#0a437a'},\n",
       " {'color': 'violet red', 'hex': '#a50055'},\n",
       " {'color': 'yellowy brown', 'hex': '#ae8b0c'},\n",
       " {'color': 'carnation', 'hex': '#fd798f'},\n",
       " {'color': 'muddy yellow', 'hex': '#bfac05'},\n",
       " {'color': 'dark seafoam green', 'hex': '#3eaf76'},\n",
       " {'color': 'deep rose', 'hex': '#c74767'},\n",
       " {'color': 'dusty red', 'hex': '#b9484e'},\n",
       " {'color': 'grey/blue', 'hex': '#647d8e'},\n",
       " {'color': 'lemon lime', 'hex': '#bffe28'},\n",
       " {'color': 'purple/pink', 'hex': '#d725de'},\n",
       " {'color': 'brown yellow', 'hex': '#b29705'},\n",
       " {'color': 'purple brown', 'hex': '#673a3f'},\n",
       " {'color': 'wisteria', 'hex': '#a87dc2'},\n",
       " {'color': 'banana yellow', 'hex': '#fafe4b'},\n",
       " {'color': 'lipstick red', 'hex': '#c0022f'},\n",
       " {'color': 'water blue', 'hex': '#0e87cc'},\n",
       " {'color': 'brown grey', 'hex': '#8d8468'},\n",
       " {'color': 'vibrant purple', 'hex': '#ad03de'},\n",
       " {'color': 'baby green', 'hex': '#8cff9e'},\n",
       " {'color': 'barf green', 'hex': '#94ac02'},\n",
       " {'color': 'eggshell blue', 'hex': '#c4fff7'},\n",
       " {'color': 'sandy yellow', 'hex': '#fdee73'},\n",
       " {'color': 'cool green', 'hex': '#33b864'},\n",
       " {'color': 'pale', 'hex': '#fff9d0'},\n",
       " {'color': 'blue/grey', 'hex': '#758da3'},\n",
       " {'color': 'hot magenta', 'hex': '#f504c9'},\n",
       " {'color': 'greyblue', 'hex': '#77a1b5'},\n",
       " {'color': 'purpley', 'hex': '#8756e4'},\n",
       " {'color': 'baby shit green', 'hex': '#889717'},\n",
       " {'color': 'brownish pink', 'hex': '#c27e79'},\n",
       " {'color': 'dark aquamarine', 'hex': '#017371'},\n",
       " {'color': 'diarrhea', 'hex': '#9f8303'},\n",
       " {'color': 'light mustard', 'hex': '#f7d560'},\n",
       " {'color': 'pale sky blue', 'hex': '#bdf6fe'},\n",
       " {'color': 'turtle green', 'hex': '#75b84f'},\n",
       " {'color': 'bright olive', 'hex': '#9cbb04'},\n",
       " {'color': 'dark grey blue', 'hex': '#29465b'},\n",
       " {'color': 'greeny brown', 'hex': '#696006'},\n",
       " {'color': 'lemon green', 'hex': '#adf802'},\n",
       " {'color': 'light periwinkle', 'hex': '#c1c6fc'},\n",
       " {'color': 'seaweed green', 'hex': '#35ad6b'},\n",
       " {'color': 'sunshine yellow', 'hex': '#fffd37'},\n",
       " {'color': 'ugly purple', 'hex': '#a442a0'},\n",
       " {'color': 'medium pink', 'hex': '#f36196'},\n",
       " {'color': 'puke brown', 'hex': '#947706'},\n",
       " {'color': 'very light pink', 'hex': '#fff4f2'},\n",
       " {'color': 'viridian', 'hex': '#1e9167'},\n",
       " {'color': 'bile', 'hex': '#b5c306'},\n",
       " {'color': 'faded yellow', 'hex': '#feff7f'},\n",
       " {'color': 'very pale green', 'hex': '#cffdbc'},\n",
       " {'color': 'vibrant green', 'hex': '#0add08'},\n",
       " {'color': 'bright lime', 'hex': '#87fd05'},\n",
       " {'color': 'spearmint', 'hex': '#1ef876'},\n",
       " {'color': 'light aquamarine', 'hex': '#7bfdc7'},\n",
       " {'color': 'light sage', 'hex': '#bcecac'},\n",
       " {'color': 'yellowgreen', 'hex': '#bbf90f'},\n",
       " {'color': 'baby poo', 'hex': '#ab9004'},\n",
       " {'color': 'dark seafoam', 'hex': '#1fb57a'},\n",
       " {'color': 'deep teal', 'hex': '#00555a'},\n",
       " {'color': 'heather', 'hex': '#a484ac'},\n",
       " {'color': 'rust orange', 'hex': '#c45508'},\n",
       " {'color': 'dirty blue', 'hex': '#3f829d'},\n",
       " {'color': 'fern green', 'hex': '#548d44'},\n",
       " {'color': 'bright lilac', 'hex': '#c95efb'},\n",
       " {'color': 'weird green', 'hex': '#3ae57f'},\n",
       " {'color': 'peacock blue', 'hex': '#016795'},\n",
       " {'color': 'avocado green', 'hex': '#87a922'},\n",
       " {'color': 'faded orange', 'hex': '#f0944d'},\n",
       " {'color': 'grape purple', 'hex': '#5d1451'},\n",
       " {'color': 'hot green', 'hex': '#25ff29'},\n",
       " {'color': 'lime yellow', 'hex': '#d0fe1d'},\n",
       " {'color': 'mango', 'hex': '#ffa62b'},\n",
       " {'color': 'shamrock', 'hex': '#01b44c'},\n",
       " {'color': 'bubblegum', 'hex': '#ff6cb5'},\n",
       " {'color': 'purplish brown', 'hex': '#6b4247'},\n",
       " {'color': 'vomit yellow', 'hex': '#c7c10c'},\n",
       " {'color': 'pale cyan', 'hex': '#b7fffa'},\n",
       " {'color': 'key lime', 'hex': '#aeff6e'},\n",
       " {'color': 'tomato red', 'hex': '#ec2d01'},\n",
       " {'color': 'lightgreen', 'hex': '#76ff7b'},\n",
       " {'color': 'merlot', 'hex': '#730039'},\n",
       " {'color': 'night blue', 'hex': '#040348'},\n",
       " {'color': 'purpleish pink', 'hex': '#df4ec8'},\n",
       " {'color': 'apple', 'hex': '#6ecb3c'},\n",
       " {'color': 'baby poop green', 'hex': '#8f9805'},\n",
       " {'color': 'green apple', 'hex': '#5edc1f'},\n",
       " {'color': 'heliotrope', 'hex': '#d94ff5'},\n",
       " {'color': 'yellow/green', 'hex': '#c8fd3d'},\n",
       " {'color': 'almost black', 'hex': '#070d0d'},\n",
       " {'color': 'cool blue', 'hex': '#4984b8'},\n",
       " {'color': 'leafy green', 'hex': '#51b73b'},\n",
       " {'color': 'mustard brown', 'hex': '#ac7e04'},\n",
       " {'color': 'dusk', 'hex': '#4e5481'},\n",
       " {'color': 'dull brown', 'hex': '#876e4b'},\n",
       " {'color': 'frog green', 'hex': '#58bc08'},\n",
       " {'color': 'vivid green', 'hex': '#2fef10'},\n",
       " {'color': 'bright light green', 'hex': '#2dfe54'},\n",
       " {'color': 'fluro green', 'hex': '#0aff02'},\n",
       " {'color': 'kiwi', 'hex': '#9cef43'},\n",
       " {'color': 'seaweed', 'hex': '#18d17b'},\n",
       " {'color': 'navy green', 'hex': '#35530a'},\n",
       " {'color': 'ultramarine blue', 'hex': '#1805db'},\n",
       " {'color': 'iris', 'hex': '#6258c4'},\n",
       " {'color': 'pastel orange', 'hex': '#ff964f'},\n",
       " {'color': 'yellowish orange', 'hex': '#ffab0f'},\n",
       " {'color': 'perrywinkle', 'hex': '#8f8ce7'},\n",
       " {'color': 'tealish', 'hex': '#24bca8'},\n",
       " {'color': 'dark plum', 'hex': '#3f012c'},\n",
       " {'color': 'pear', 'hex': '#cbf85f'},\n",
       " {'color': 'pinkish orange', 'hex': '#ff724c'},\n",
       " {'color': 'midnight purple', 'hex': '#280137'},\n",
       " {'color': 'light urple', 'hex': '#b36ff6'},\n",
       " {'color': 'dark mint', 'hex': '#48c072'},\n",
       " {'color': 'greenish tan', 'hex': '#bccb7a'},\n",
       " {'color': 'light burgundy', 'hex': '#a8415b'},\n",
       " {'color': 'turquoise blue', 'hex': '#06b1c4'},\n",
       " {'color': 'ugly pink', 'hex': '#cd7584'},\n",
       " {'color': 'sandy', 'hex': '#f1da7a'},\n",
       " {'color': 'electric pink', 'hex': '#ff0490'},\n",
       " {'color': 'muted purple', 'hex': '#805b87'},\n",
       " {'color': 'mid green', 'hex': '#50a747'},\n",
       " {'color': 'greyish', 'hex': '#a8a495'},\n",
       " {'color': 'neon yellow', 'hex': '#cfff04'},\n",
       " {'color': 'banana', 'hex': '#ffff7e'},\n",
       " {'color': 'carnation pink', 'hex': '#ff7fa7'},\n",
       " {'color': 'tomato', 'hex': '#ef4026'},\n",
       " {'color': 'sea', 'hex': '#3c9992'},\n",
       " {'color': 'muddy brown', 'hex': '#886806'},\n",
       " {'color': 'turquoise green', 'hex': '#04f489'},\n",
       " {'color': 'buff', 'hex': '#fef69e'},\n",
       " {'color': 'fawn', 'hex': '#cfaf7b'},\n",
       " {'color': 'muted blue', 'hex': '#3b719f'},\n",
       " {'color': 'pale rose', 'hex': '#fdc1c5'},\n",
       " {'color': 'dark mint green', 'hex': '#20c073'},\n",
       " {'color': 'amethyst', 'hex': '#9b5fc0'},\n",
       " {'color': 'blue/green', 'hex': '#0f9b8e'},\n",
       " {'color': 'chestnut', 'hex': '#742802'},\n",
       " {'color': 'sick green', 'hex': '#9db92c'},\n",
       " {'color': 'pea', 'hex': '#a4bf20'},\n",
       " {'color': 'rusty orange', 'hex': '#cd5909'},\n",
       " {'color': 'stone', 'hex': '#ada587'},\n",
       " {'color': 'rose red', 'hex': '#be013c'},\n",
       " {'color': 'pale aqua', 'hex': '#b8ffeb'},\n",
       " {'color': 'deep orange', 'hex': '#dc4d01'},\n",
       " {'color': 'earth', 'hex': '#a2653e'},\n",
       " {'color': 'mossy green', 'hex': '#638b27'},\n",
       " {'color': 'grassy green', 'hex': '#419c03'},\n",
       " {'color': 'pale lime green', 'hex': '#b1ff65'},\n",
       " {'color': 'light grey blue', 'hex': '#9dbcd4'},\n",
       " {'color': 'pale grey', 'hex': '#fdfdfe'},\n",
       " {'color': 'asparagus', 'hex': '#77ab56'},\n",
       " {'color': 'blueberry', 'hex': '#464196'},\n",
       " {'color': 'purple red', 'hex': '#990147'},\n",
       " {'color': 'pale lime', 'hex': '#befd73'},\n",
       " {'color': 'greenish teal', 'hex': '#32bf84'},\n",
       " {'color': 'caramel', 'hex': '#af6f09'},\n",
       " {'color': 'deep magenta', 'hex': '#a0025c'},\n",
       " {'color': 'light peach', 'hex': '#ffd8b1'},\n",
       " {'color': 'milk chocolate', 'hex': '#7f4e1e'},\n",
       " {'color': 'ocher', 'hex': '#bf9b0c'},\n",
       " {'color': 'off green', 'hex': '#6ba353'},\n",
       " {'color': 'purply pink', 'hex': '#f075e6'},\n",
       " {'color': 'lightblue', 'hex': '#7bc8f6'},\n",
       " {'color': 'dusky blue', 'hex': '#475f94'},\n",
       " {'color': 'golden', 'hex': '#f5bf03'},\n",
       " {'color': 'light beige', 'hex': '#fffeb6'},\n",
       " {'color': 'butter yellow', 'hex': '#fffd74'},\n",
       " {'color': 'dusky purple', 'hex': '#895b7b'},\n",
       " {'color': 'french blue', 'hex': '#436bad'},\n",
       " {'color': 'ugly yellow', 'hex': '#d0c101'},\n",
       " {'color': 'greeny yellow', 'hex': '#c6f808'},\n",
       " {'color': 'orangish red', 'hex': '#f43605'},\n",
       " {'color': 'shamrock green', 'hex': '#02c14d'},\n",
       " {'color': 'orangish brown', 'hex': '#b25f03'},\n",
       " {'color': 'tree green', 'hex': '#2a7e19'},\n",
       " {'color': 'deep violet', 'hex': '#490648'},\n",
       " {'color': 'gunmetal', 'hex': '#536267'},\n",
       " {'color': 'blue/purple', 'hex': '#5a06ef'},\n",
       " {'color': 'cherry', 'hex': '#cf0234'},\n",
       " {'color': 'sandy brown', 'hex': '#c4a661'},\n",
       " {'color': 'warm grey', 'hex': '#978a84'},\n",
       " {'color': 'dark indigo', 'hex': '#1f0954'},\n",
       " {'color': 'midnight', 'hex': '#03012d'},\n",
       " {'color': 'bluey green', 'hex': '#2bb179'},\n",
       " {'color': 'grey pink', 'hex': '#c3909b'},\n",
       " {'color': 'soft purple', 'hex': '#a66fb5'},\n",
       " {'color': 'blood', 'hex': '#770001'},\n",
       " {'color': 'brown red', 'hex': '#922b05'},\n",
       " {'color': 'medium grey', 'hex': '#7d7f7c'},\n",
       " {'color': 'berry', 'hex': '#990f4b'},\n",
       " {'color': 'poo', 'hex': '#8f7303'},\n",
       " {'color': 'purpley pink', 'hex': '#c83cb9'},\n",
       " {'color': 'light salmon', 'hex': '#fea993'},\n",
       " {'color': 'snot', 'hex': '#acbb0d'},\n",
       " {'color': 'easter purple', 'hex': '#c071fe'},\n",
       " {'color': 'light yellow green', 'hex': '#ccfd7f'},\n",
       " {'color': 'dark navy blue', 'hex': '#00022e'},\n",
       " {'color': 'drab', 'hex': '#828344'},\n",
       " {'color': 'light rose', 'hex': '#ffc5cb'},\n",
       " {'color': 'rouge', 'hex': '#ab1239'},\n",
       " {'color': 'purplish red', 'hex': '#b0054b'},\n",
       " {'color': 'slime green', 'hex': '#99cc04'},\n",
       " {'color': 'baby poop', 'hex': '#937c00'},\n",
       " {'color': 'irish green', 'hex': '#019529'},\n",
       " {'color': 'pink/purple', 'hex': '#ef1de7'},\n",
       " {'color': 'dark navy', 'hex': '#000435'},\n",
       " {'color': 'greeny blue', 'hex': '#42b395'},\n",
       " {'color': 'light plum', 'hex': '#9d5783'},\n",
       " {'color': 'pinkish grey', 'hex': '#c8aca9'},\n",
       " {'color': 'dirty orange', 'hex': '#c87606'},\n",
       " {'color': 'rust red', 'hex': '#aa2704'},\n",
       " {'color': 'pale lilac', 'hex': '#e4cbff'},\n",
       " {'color': 'orangey red', 'hex': '#fa4224'},\n",
       " {'color': 'primary blue', 'hex': '#0804f9'},\n",
       " {'color': 'kermit green', 'hex': '#5cb200'},\n",
       " {'color': 'brownish purple', 'hex': '#76424e'},\n",
       " {'color': 'murky green', 'hex': '#6c7a0e'},\n",
       " {'color': 'wheat', 'hex': '#fbdd7e'},\n",
       " {'color': 'very dark purple', 'hex': '#2a0134'},\n",
       " {'color': 'bottle green', 'hex': '#044a05'},\n",
       " {'color': 'watermelon', 'hex': '#fd4659'},\n",
       " {'color': 'deep sky blue', 'hex': '#0d75f8'},\n",
       " {'color': 'fire engine red', 'hex': '#fe0002'},\n",
       " {'color': 'yellow ochre', 'hex': '#cb9d06'},\n",
       " {'color': 'pumpkin orange', 'hex': '#fb7d07'},\n",
       " {'color': 'pale olive', 'hex': '#b9cc81'},\n",
       " {'color': 'light lilac', 'hex': '#edc8ff'},\n",
       " {'color': 'lightish green', 'hex': '#61e160'},\n",
       " {'color': 'carolina blue', 'hex': '#8ab8fe'},\n",
       " {'color': 'mulberry', 'hex': '#920a4e'},\n",
       " {'color': 'shocking pink', 'hex': '#fe02a2'},\n",
       " {'color': 'auburn', 'hex': '#9a3001'},\n",
       " {'color': 'bright lime green', 'hex': '#65fe08'},\n",
       " {'color': 'celadon', 'hex': '#befdb7'},\n",
       " {'color': 'pinkish brown', 'hex': '#b17261'},\n",
       " {'color': 'poo brown', 'hex': '#885f01'},\n",
       " {'color': 'bright sky blue', 'hex': '#02ccfe'},\n",
       " {'color': 'celery', 'hex': '#c1fd95'},\n",
       " {'color': 'dirt brown', 'hex': '#836539'},\n",
       " {'color': 'strawberry', 'hex': '#fb2943'},\n",
       " {'color': 'dark lime', 'hex': '#84b701'},\n",
       " {'color': 'copper', 'hex': '#b66325'},\n",
       " {'color': 'medium brown', 'hex': '#7f5112'},\n",
       " {'color': 'muted green', 'hex': '#5fa052'},\n",
       " {'color': \"robin's egg\", 'hex': '#6dedfd'},\n",
       " {'color': 'bright aqua', 'hex': '#0bf9ea'},\n",
       " {'color': 'bright lavender', 'hex': '#c760ff'},\n",
       " {'color': 'ivory', 'hex': '#ffffcb'},\n",
       " {'color': 'very light purple', 'hex': '#f6cefc'},\n",
       " {'color': 'light navy', 'hex': '#155084'},\n",
       " {'color': 'pink red', 'hex': '#f5054f'},\n",
       " {'color': 'olive brown', 'hex': '#645403'},\n",
       " {'color': 'poop brown', 'hex': '#7a5901'},\n",
       " {'color': 'mustard green', 'hex': '#a8b504'},\n",
       " {'color': 'ocean green', 'hex': '#3d9973'},\n",
       " {'color': 'very dark blue', 'hex': '#000133'},\n",
       " {'color': 'dusty green', 'hex': '#76a973'},\n",
       " {'color': 'light navy blue', 'hex': '#2e5a88'},\n",
       " {'color': 'minty green', 'hex': '#0bf77d'},\n",
       " {'color': 'adobe', 'hex': '#bd6c48'},\n",
       " {'color': 'barney', 'hex': '#ac1db8'},\n",
       " {'color': 'jade green', 'hex': '#2baf6a'},\n",
       " {'color': 'bright light blue', 'hex': '#26f7fd'},\n",
       " {'color': 'light lime', 'hex': '#aefd6c'},\n",
       " {'color': 'dark khaki', 'hex': '#9b8f55'},\n",
       " {'color': 'orange yellow', 'hex': '#ffad01'},\n",
       " {'color': 'ocre', 'hex': '#c69c04'},\n",
       " {'color': 'maize', 'hex': '#f4d054'},\n",
       " {'color': 'faded pink', 'hex': '#de9dac'},\n",
       " {'color': 'british racing green', 'hex': '#05480d'},\n",
       " {'color': 'sandstone', 'hex': '#c9ae74'},\n",
       " {'color': 'mud brown', 'hex': '#60460f'},\n",
       " {'color': 'light sea green', 'hex': '#98f6b0'},\n",
       " {'color': 'robin egg blue', 'hex': '#8af1fe'},\n",
       " {'color': 'aqua marine', 'hex': '#2ee8bb'},\n",
       " {'color': 'dark sea green', 'hex': '#11875d'},\n",
       " {'color': 'soft pink', 'hex': '#fdb0c0'},\n",
       " {'color': 'orangey brown', 'hex': '#b16002'},\n",
       " {'color': 'cherry red', 'hex': '#f7022a'},\n",
       " {'color': 'burnt yellow', 'hex': '#d5ab09'},\n",
       " {'color': 'brownish grey', 'hex': '#86775f'},\n",
       " {'color': 'camel', 'hex': '#c69f59'},\n",
       " {'color': 'purplish grey', 'hex': '#7a687f'},\n",
       " {'color': 'marine', 'hex': '#042e60'},\n",
       " {'color': 'greyish pink', 'hex': '#c88d94'},\n",
       " {'color': 'pale turquoise', 'hex': '#a5fbd5'},\n",
       " {'color': 'pastel yellow', 'hex': '#fffe71'},\n",
       " {'color': 'bluey purple', 'hex': '#6241c7'},\n",
       " {'color': 'canary yellow', 'hex': '#fffe40'},\n",
       " {'color': 'faded red', 'hex': '#d3494e'},\n",
       " {'color': 'sepia', 'hex': '#985e2b'},\n",
       " {'color': 'coffee', 'hex': '#a6814c'},\n",
       " {'color': 'bright magenta', 'hex': '#ff08e8'},\n",
       " {'color': 'mocha', 'hex': '#9d7651'},\n",
       " {'color': 'ecru', 'hex': '#feffca'},\n",
       " {'color': 'purpleish', 'hex': '#98568d'},\n",
       " {'color': 'cranberry', 'hex': '#9e003a'},\n",
       " {'color': 'darkish green', 'hex': '#287c37'},\n",
       " {'color': 'brown orange', 'hex': '#b96902'},\n",
       " {'color': 'dusky rose', 'hex': '#ba6873'},\n",
       " {'color': 'melon', 'hex': '#ff7855'},\n",
       " {'color': 'sickly green', 'hex': '#94b21c'},\n",
       " {'color': 'silver', 'hex': '#c5c9c7'},\n",
       " {'color': 'purply blue', 'hex': '#661aee'},\n",
       " {'color': 'purpleish blue', 'hex': '#6140ef'},\n",
       " {'color': 'hospital green', 'hex': '#9be5aa'},\n",
       " {'color': 'shit brown', 'hex': '#7b5804'},\n",
       " {'color': 'mid blue', 'hex': '#276ab3'},\n",
       " {'color': 'amber', 'hex': '#feb308'},\n",
       " {'color': 'easter green', 'hex': '#8cfd7e'},\n",
       " {'color': 'soft blue', 'hex': '#6488ea'},\n",
       " {'color': 'cerulean blue', 'hex': '#056eee'},\n",
       " {'color': 'golden brown', 'hex': '#b27a01'},\n",
       " {'color': 'bright turquoise', 'hex': '#0ffef9'},\n",
       " {'color': 'red pink', 'hex': '#fa2a55'},\n",
       " {'color': 'red purple', 'hex': '#820747'},\n",
       " {'color': 'greyish brown', 'hex': '#7a6a4f'},\n",
       " {'color': 'vermillion', 'hex': '#f4320c'},\n",
       " {'color': 'russet', 'hex': '#a13905'},\n",
       " {'color': 'steel grey', 'hex': '#6f828a'},\n",
       " {'color': 'lighter purple', 'hex': '#a55af4'},\n",
       " {'color': 'bright violet', 'hex': '#ad0afd'},\n",
       " {'color': 'prussian blue', 'hex': '#004577'},\n",
       " {'color': 'slate green', 'hex': '#658d6d'},\n",
       " {'color': 'dirty pink', 'hex': '#ca7b80'},\n",
       " {'color': 'dark blue green', 'hex': '#005249'},\n",
       " {'color': 'pine', 'hex': '#2b5d34'},\n",
       " {'color': 'yellowy green', 'hex': '#bff128'},\n",
       " {'color': 'dark gold', 'hex': '#b59410'},\n",
       " {'color': 'bluish', 'hex': '#2976bb'},\n",
       " {'color': 'darkish blue', 'hex': '#014182'},\n",
       " {'color': 'dull red', 'hex': '#bb3f3f'},\n",
       " {'color': 'pinky red', 'hex': '#fc2647'},\n",
       " {'color': 'bronze', 'hex': '#a87900'},\n",
       " {'color': 'pale teal', 'hex': '#82cbb2'},\n",
       " {'color': 'military green', 'hex': '#667c3e'},\n",
       " {'color': 'barbie pink', 'hex': '#fe46a5'},\n",
       " {'color': 'bubblegum pink', 'hex': '#fe83cc'},\n",
       " {'color': 'pea soup green', 'hex': '#94a617'},\n",
       " {'color': 'dark mustard', 'hex': '#a88905'},\n",
       " {'color': 'shit', 'hex': '#7f5f00'},\n",
       " {'color': 'medium purple', 'hex': '#9e43a2'},\n",
       " {'color': 'very dark green', 'hex': '#062e03'},\n",
       " {'color': 'dirt', 'hex': '#8a6e45'},\n",
       " {'color': 'dusky pink', 'hex': '#cc7a8b'},\n",
       " {'color': 'red violet', 'hex': '#9e0168'},\n",
       " {'color': 'lemon yellow', 'hex': '#fdff38'},\n",
       " {'color': 'pistachio', 'hex': '#c0fa8b'},\n",
       " {'color': 'dull yellow', 'hex': '#eedc5b'},\n",
       " {'color': 'dark lime green', 'hex': '#7ebd01'},\n",
       " {'color': 'denim blue', 'hex': '#3b5b92'},\n",
       " {'color': 'teal blue', 'hex': '#01889f'},\n",
       " {'color': 'lightish blue', 'hex': '#3d7afd'},\n",
       " {'color': 'purpley blue', 'hex': '#5f34e7'},\n",
       " {'color': 'light indigo', 'hex': '#6d5acf'},\n",
       " {'color': 'swamp green', 'hex': '#748500'},\n",
       " {'color': 'brown green', 'hex': '#706c11'},\n",
       " {'color': 'dark maroon', 'hex': '#3c0008'},\n",
       " {'color': 'hot purple', 'hex': '#cb00f5'},\n",
       " {'color': 'dark forest green', 'hex': '#002d04'},\n",
       " {'color': 'faded blue', 'hex': '#658cbb'},\n",
       " {'color': 'drab green', 'hex': '#749551'},\n",
       " {'color': 'light lime green', 'hex': '#b9ff66'},\n",
       " {'color': 'snot green', 'hex': '#9dc100'},\n",
       " {'color': 'yellowish', 'hex': '#faee66'},\n",
       " {'color': 'light blue green', 'hex': '#7efbb3'},\n",
       " {'color': 'bordeaux', 'hex': '#7b002c'},\n",
       " {'color': 'light mauve', 'hex': '#c292a1'},\n",
       " {'color': 'ocean', 'hex': '#017b92'},\n",
       " {'color': 'marigold', 'hex': '#fcc006'},\n",
       " {'color': 'muddy green', 'hex': '#657432'},\n",
       " {'color': 'dull orange', 'hex': '#d8863b'},\n",
       " {'color': 'steel', 'hex': '#738595'},\n",
       " {'color': 'electric purple', 'hex': '#aa23ff'},\n",
       " {'color': 'fluorescent green', 'hex': '#08ff08'},\n",
       " {'color': 'yellowish brown', 'hex': '#9b7a01'},\n",
       " {'color': 'blush', 'hex': '#f29e8e'},\n",
       " {'color': 'soft green', 'hex': '#6fc276'},\n",
       " {'color': 'bright orange', 'hex': '#ff5b00'},\n",
       " {'color': 'lemon', 'hex': '#fdff52'},\n",
       " {'color': 'purple grey', 'hex': '#866f85'},\n",
       " {'color': 'acid green', 'hex': '#8ffe09'},\n",
       " {'color': 'pale lavender', 'hex': '#eecffe'},\n",
       " {'color': 'violet blue', 'hex': '#510ac9'},\n",
       " {'color': 'light forest green', 'hex': '#4f9153'},\n",
       " {'color': 'burnt red', 'hex': '#9f2305'},\n",
       " {'color': 'khaki green', 'hex': '#728639'},\n",
       " {'color': 'cerise', 'hex': '#de0c62'},\n",
       " {'color': 'faded purple', 'hex': '#916e99'},\n",
       " {'color': 'apricot', 'hex': '#ffb16d'},\n",
       " {'color': 'dark olive green', 'hex': '#3c4d03'},\n",
       " {'color': 'grey brown', 'hex': '#7f7053'},\n",
       " {'color': 'green grey', 'hex': '#77926f'},\n",
       " {'color': 'true blue', 'hex': '#010fcc'},\n",
       " {'color': 'pale violet', 'hex': '#ceaefa'},\n",
       " {'color': 'periwinkle blue', 'hex': '#8f99fb'},\n",
       " {'color': 'light sky blue', 'hex': '#c6fcff'},\n",
       " {'color': 'blurple', 'hex': '#5539cc'},\n",
       " {'color': 'green brown', 'hex': '#544e03'},\n",
       " {'color': 'bluegreen', 'hex': '#017a79'},\n",
       " {'color': 'bright teal', 'hex': '#01f9c6'},\n",
       " {'color': 'brownish yellow', 'hex': '#c9b003'},\n",
       " {'color': 'pea soup', 'hex': '#929901'},\n",
       " {'color': 'forest', 'hex': '#0b5509'},\n",
       " {'color': 'barney purple', 'hex': '#a00498'},\n",
       " {'color': 'ultramarine', 'hex': '#2000b1'},\n",
       " {'color': 'purplish', 'hex': '#94568c'},\n",
       " {'color': 'puke yellow', 'hex': '#c2be0e'},\n",
       " {'color': 'bluish grey', 'hex': '#748b97'},\n",
       " {'color': 'dark periwinkle', 'hex': '#665fd1'},\n",
       " {'color': 'dark lilac', 'hex': '#9c6da5'},\n",
       " {'color': 'reddish', 'hex': '#c44240'},\n",
       " {'color': 'light maroon', 'hex': '#a24857'},\n",
       " {'color': 'dusty purple', 'hex': '#825f87'},\n",
       " {'color': 'terra cotta', 'hex': '#c9643b'},\n",
       " {'color': 'avocado', 'hex': '#90b134'},\n",
       " {'color': 'marine blue', 'hex': '#01386a'},\n",
       " {'color': 'teal green', 'hex': '#25a36f'},\n",
       " {'color': 'slate grey', 'hex': '#59656d'},\n",
       " {'color': 'lighter green', 'hex': '#75fd63'},\n",
       " {'color': 'electric green', 'hex': '#21fc0d'},\n",
       " {'color': 'dusty blue', 'hex': '#5a86ad'},\n",
       " {'color': 'golden yellow', 'hex': '#fec615'},\n",
       " {'color': 'bright yellow', 'hex': '#fffd01'},\n",
       " {'color': 'light lavender', 'hex': '#dfc5fe'},\n",
       " {'color': 'umber', 'hex': '#b26400'},\n",
       " {'color': 'poop', 'hex': '#7f5e00'},\n",
       " {'color': 'dark peach', 'hex': '#de7e5d'},\n",
       " {'color': 'jungle green', 'hex': '#048243'},\n",
       " {'color': 'eggshell', 'hex': '#ffffd4'},\n",
       " {'color': 'denim', 'hex': '#3b638c'},\n",
       " {'color': 'yellow brown', 'hex': '#b79400'},\n",
       " {'color': 'dull purple', 'hex': '#84597e'},\n",
       " {'color': 'chocolate brown', 'hex': '#411900'},\n",
       " {'color': 'wine red', 'hex': '#7b0323'},\n",
       " {'color': 'neon blue', 'hex': '#04d9ff'},\n",
       " {'color': 'dirty green', 'hex': '#667e2c'},\n",
       " {'color': 'light tan', 'hex': '#fbeeac'},\n",
       " {'color': 'ice blue', 'hex': '#d7fffe'},\n",
       " {'color': 'cadet blue', 'hex': '#4e7496'},\n",
       " {'color': 'dark mauve', 'hex': '#874c62'},\n",
       " {'color': 'very light blue', 'hex': '#d5ffff'},\n",
       " {'color': 'grey purple', 'hex': '#826d8c'},\n",
       " {'color': 'pastel pink', 'hex': '#ffbacd'},\n",
       " {'color': 'very light green', 'hex': '#d1ffbd'},\n",
       " {'color': 'dark sky blue', 'hex': '#448ee4'},\n",
       " {'color': 'evergreen', 'hex': '#05472a'},\n",
       " {'color': 'dull pink', 'hex': '#d5869d'},\n",
       " {'color': 'aubergine', 'hex': '#3d0734'},\n",
       " {'color': 'mahogany', 'hex': '#4a0100'},\n",
       " {'color': 'reddish orange', 'hex': '#f8481c'},\n",
       " {'color': 'deep green', 'hex': '#02590f'},\n",
       " {'color': 'vomit green', 'hex': '#89a203'},\n",
       " {'color': 'purple pink', 'hex': '#e03fd8'},\n",
       " {'color': 'dusty pink', 'hex': '#d58a94'},\n",
       " {'color': 'faded green', 'hex': '#7bb274'},\n",
       " {'color': 'camo green', 'hex': '#526525'},\n",
       " {'color': 'pinky purple', 'hex': '#c94cbe'},\n",
       " {'color': 'pink purple', 'hex': '#db4bda'},\n",
       " {'color': 'brownish red', 'hex': '#9e3623'},\n",
       " {'color': 'dark rose', 'hex': '#b5485d'},\n",
       " {'color': 'mud', 'hex': '#735c12'},\n",
       " {'color': 'brownish', 'hex': '#9c6d57'},\n",
       " {'color': 'emerald green', 'hex': '#028f1e'},\n",
       " {'color': 'pale brown', 'hex': '#b1916e'},\n",
       " {'color': 'dull blue', 'hex': '#49759c'},\n",
       " {'color': 'burnt umber', 'hex': '#a0450e'},\n",
       " {'color': 'medium green', 'hex': '#39ad48'},\n",
       " {'color': 'clay', 'hex': '#b66a50'},\n",
       " {'color': 'light aqua', 'hex': '#8cffdb'},\n",
       " {'color': 'light olive green', 'hex': '#a4be5c'},\n",
       " {'color': 'brownish orange', 'hex': '#cb7723'},\n",
       " {'color': 'dark aqua', 'hex': '#05696b'},\n",
       " {'color': 'purplish pink', 'hex': '#ce5dae'},\n",
       " {'color': 'dark salmon', 'hex': '#c85a53'},\n",
       " {'color': 'greenish grey', 'hex': '#96ae8d'},\n",
       " {'color': 'jade', 'hex': '#1fa774'},\n",
       " {'color': 'ugly green', 'hex': '#7a9703'},\n",
       " {'color': 'dark beige', 'hex': '#ac9362'},\n",
       " {'color': 'emerald', 'hex': '#01a049'},\n",
       " {'color': 'pale red', 'hex': '#d9544d'},\n",
       " {'color': 'light magenta', 'hex': '#fa5ff7'},\n",
       " {'color': 'sky', 'hex': '#82cafc'},\n",
       " {'color': 'light cyan', 'hex': '#acfffc'},\n",
       " {'color': 'yellow orange', 'hex': '#fcb001'},\n",
       " {'color': 'reddish purple', 'hex': '#910951'},\n",
       " {'color': 'reddish pink', 'hex': '#fe2c54'},\n",
       " {'color': 'orchid', 'hex': '#c875c4'},\n",
       " {'color': 'dirty yellow', 'hex': '#cdc50a'},\n",
       " {'color': 'orange red', 'hex': '#fd411e'},\n",
       " {'color': 'deep red', 'hex': '#9a0200'},\n",
       " {'color': 'orange brown', 'hex': '#be6400'},\n",
       " {'color': 'cobalt blue', 'hex': '#030aa7'},\n",
       " {'color': 'neon pink', 'hex': '#fe019a'},\n",
       " {'color': 'rose pink', 'hex': '#f7879a'},\n",
       " {'color': 'greyish purple', 'hex': '#887191'},\n",
       " {'color': 'raspberry', 'hex': '#b00149'},\n",
       " {'color': 'aqua green', 'hex': '#12e193'},\n",
       " {'color': 'salmon pink', 'hex': '#fe7b7c'},\n",
       " {'color': 'tangerine', 'hex': '#ff9408'},\n",
       " {'color': 'brownish green', 'hex': '#6a6e09'},\n",
       " {'color': 'red brown', 'hex': '#8b2e16'},\n",
       " {'color': 'greenish brown', 'hex': '#696112'},\n",
       " {'color': 'pumpkin', 'hex': '#e17701'},\n",
       " {'color': 'pine green', 'hex': '#0a481e'},\n",
       " {'color': 'charcoal', 'hex': '#343837'},\n",
       " {'color': 'baby pink', 'hex': '#ffb7ce'},\n",
       " {'color': 'cornflower', 'hex': '#6a79f7'},\n",
       " {'color': 'blue violet', 'hex': '#5d06e9'},\n",
       " {'color': 'chocolate', 'hex': '#3d1c02'},\n",
       " {'color': 'greyish green', 'hex': '#82a67d'},\n",
       " {'color': 'scarlet', 'hex': '#be0119'},\n",
       " {'color': 'green yellow', 'hex': '#c9ff27'},\n",
       " {'color': 'dark olive', 'hex': '#373e02'},\n",
       " {'color': 'sienna', 'hex': '#a9561e'},\n",
       " {'color': 'pastel purple', 'hex': '#caa0ff'},\n",
       " {'color': 'terracotta', 'hex': '#ca6641'},\n",
       " {'color': 'aqua blue', 'hex': '#02d8e9'},\n",
       " {'color': 'sage green', 'hex': '#88b378'},\n",
       " {'color': 'blood red', 'hex': '#980002'},\n",
       " {'color': 'deep pink', 'hex': '#cb0162'},\n",
       " {'color': 'grass', 'hex': '#5cac2d'},\n",
       " {'color': 'moss', 'hex': '#769958'},\n",
       " {'color': 'pastel blue', 'hex': '#a2bffe'},\n",
       " {'color': 'bluish green', 'hex': '#10a674'},\n",
       " {'color': 'green blue', 'hex': '#06b48b'},\n",
       " {'color': 'dark tan', 'hex': '#af884a'},\n",
       " {'color': 'greenish blue', 'hex': '#0b8b87'},\n",
       " {'color': 'pale orange', 'hex': '#ffa756'},\n",
       " {'color': 'vomit', 'hex': '#a2a415'},\n",
       " {'color': 'forrest green', 'hex': '#154406'},\n",
       " {'color': 'dark lavender', 'hex': '#856798'},\n",
       " {'color': 'dark violet', 'hex': '#34013f'},\n",
       " {'color': 'purple blue', 'hex': '#632de9'},\n",
       " {'color': 'dark cyan', 'hex': '#0a888a'},\n",
       " {'color': 'olive drab', 'hex': '#6f7632'},\n",
       " {'color': 'pinkish', 'hex': '#d46a7e'},\n",
       " {'color': 'cobalt', 'hex': '#1e488f'},\n",
       " {'color': 'neon purple', 'hex': '#bc13fe'},\n",
       " {'color': 'light turquoise', 'hex': '#7ef4cc'},\n",
       " {'color': 'apple green', 'hex': '#76cd26'},\n",
       " {'color': 'dull green', 'hex': '#74a662'},\n",
       " {'color': 'wine', 'hex': '#80013f'},\n",
       " {'color': 'powder blue', 'hex': '#b1d1fc'},\n",
       " {'color': 'off white', 'hex': '#ffffe4'},\n",
       " {'color': 'electric blue', 'hex': '#0652ff'},\n",
       " {'color': 'dark turquoise', 'hex': '#045c5a'},\n",
       " {'color': 'blue purple', 'hex': '#5729ce'},\n",
       " {'color': 'azure', 'hex': '#069af3'},\n",
       " {'color': 'bright red', 'hex': '#ff000d'},\n",
       " {'color': 'pinkish red', 'hex': '#f10c45'},\n",
       " {'color': 'cornflower blue', 'hex': '#5170d7'},\n",
       " {'color': 'light olive', 'hex': '#acbf69'},\n",
       " {'color': 'grape', 'hex': '#6c3461'},\n",
       " {'color': 'greyish blue', 'hex': '#5e819d'},\n",
       " {'color': 'purplish blue', 'hex': '#601ef9'},\n",
       " {'color': 'yellowish green', 'hex': '#b0dd16'},\n",
       " {'color': 'greenish yellow', 'hex': '#cdfd02'},\n",
       " {'color': 'medium blue', 'hex': '#2c6fbb'},\n",
       " {'color': 'dusty rose', 'hex': '#c0737a'},\n",
       " {'color': 'light violet', 'hex': '#d6b4fc'},\n",
       " {'color': 'midnight blue', 'hex': '#020035'},\n",
       " {'color': 'bluish purple', 'hex': '#703be7'},\n",
       " {'color': 'red orange', 'hex': '#fd3c06'},\n",
       " {'color': 'dark magenta', 'hex': '#960056'},\n",
       " {'color': 'greenish', 'hex': '#40a368'},\n",
       " {'color': 'ocean blue', 'hex': '#03719c'},\n",
       " {'color': 'coral', 'hex': '#fc5a50'},\n",
       " {'color': 'cream', 'hex': '#ffffc2'},\n",
       " {'color': 'reddish brown', 'hex': '#7f2b0a'},\n",
       " {'color': 'burnt sienna', 'hex': '#b04e0f'},\n",
       " {'color': 'brick', 'hex': '#a03623'},\n",
       " {'color': 'sage', 'hex': '#87ae73'},\n",
       " {'color': 'grey green', 'hex': '#789b73'},\n",
       " {'color': 'white', 'hex': '#ffffff'},\n",
       " {'color': \"robin's egg blue\", 'hex': '#98eff9'},\n",
       " {'color': 'moss green', 'hex': '#658b38'},\n",
       " {'color': 'steel blue', 'hex': '#5a7d9a'},\n",
       " {'color': 'eggplant', 'hex': '#380835'},\n",
       " {'color': 'light yellow', 'hex': '#fffe7a'},\n",
       " {'color': 'leaf green', 'hex': '#5ca904'},\n",
       " {'color': 'light grey', 'hex': '#d8dcd6'},\n",
       " {'color': 'puke', 'hex': '#a5a502'},\n",
       " {'color': 'pinkish purple', 'hex': '#d648d7'},\n",
       " {'color': 'sea blue', 'hex': '#047495'},\n",
       " {'color': 'pale purple', 'hex': '#b790d4'},\n",
       " {'color': 'slate blue', 'hex': '#5b7c99'},\n",
       " {'color': 'blue grey', 'hex': '#607c8e'},\n",
       " {'color': 'hunter green', 'hex': '#0b4008'},\n",
       " {'color': 'fuchsia', 'hex': '#ed0dd9'},\n",
       " {'color': 'crimson', 'hex': '#8c000f'},\n",
       " {'color': 'pale yellow', 'hex': '#ffff84'},\n",
       " {'color': 'ochre', 'hex': '#bf9005'},\n",
       " {'color': 'mustard yellow', 'hex': '#d2bd0a'},\n",
       " {'color': 'light red', 'hex': '#ff474c'},\n",
       " {'color': 'cerulean', 'hex': '#0485d1'},\n",
       " {'color': 'pale pink', 'hex': '#ffcfdc'},\n",
       " {'color': 'deep blue', 'hex': '#040273'},\n",
       " {'color': 'rust', 'hex': '#a83c09'},\n",
       " {'color': 'light teal', 'hex': '#90e4c1'},\n",
       " {'color': 'slate', 'hex': '#516572'},\n",
       " {'color': 'goldenrod', 'hex': '#fac205'},\n",
       " {'color': 'dark yellow', 'hex': '#d5b60a'},\n",
       " {'color': 'dark grey', 'hex': '#363737'},\n",
       " {'color': 'army green', 'hex': '#4b5d16'},\n",
       " {'color': 'grey blue', 'hex': '#6b8ba4'},\n",
       " {'color': 'seafoam', 'hex': '#80f9ad'},\n",
       " {'color': 'puce', 'hex': '#a57e52'},\n",
       " {'color': 'spring green', 'hex': '#a9f971'},\n",
       " {'color': 'dark orange', 'hex': '#c65102'},\n",
       " {'color': 'sand', 'hex': '#e2ca76'},\n",
       " {'color': 'pastel green', 'hex': '#b0ff9d'},\n",
       " {'color': 'mint', 'hex': '#9ffeb0'},\n",
       " {'color': 'light orange', 'hex': '#fdaa48'},\n",
       " {'color': 'bright pink', 'hex': '#fe01b1'},\n",
       " {'color': 'chartreuse', 'hex': '#c1f80a'},\n",
       " {'color': 'deep purple', 'hex': '#36013f'},\n",
       " {'color': 'dark brown', 'hex': '#341c02'},\n",
       " {'color': 'taupe', 'hex': '#b9a281'},\n",
       " {'color': 'pea green', 'hex': '#8eab12'},\n",
       " {'color': 'puke green', 'hex': '#9aae07'},\n",
       " {'color': 'kelly green', 'hex': '#02ab2e'},\n",
       " {'color': 'seafoam green', 'hex': '#7af9ab'},\n",
       " {'color': 'blue green', 'hex': '#137e6d'},\n",
       " {'color': 'khaki', 'hex': '#aaa662'},\n",
       " {'color': 'burgundy', 'hex': '#610023'},\n",
       " {'color': 'dark teal', 'hex': '#014d4e'},\n",
       " {'color': 'brick red', 'hex': '#8f1402'},\n",
       " {'color': 'royal purple', 'hex': '#4b006e'},\n",
       " {'color': 'plum', 'hex': '#580f41'},\n",
       " {'color': 'mint green', 'hex': '#8fff9f'},\n",
       " {'color': 'gold', 'hex': '#dbb40c'},\n",
       " {'color': 'baby blue', 'hex': '#a2cffe'},\n",
       " {'color': 'yellow green', 'hex': '#c0fb2d'},\n",
       " {'color': 'bright purple', 'hex': '#be03fd'},\n",
       " {'color': 'dark red', 'hex': '#840000'},\n",
       " {'color': 'pale blue', 'hex': '#d0fefe'},\n",
       " {'color': 'grass green', 'hex': '#3f9b0b'},\n",
       " {'color': 'navy', 'hex': '#01153e'},\n",
       " {'color': 'aquamarine', 'hex': '#04d8b2'},\n",
       " {'color': 'burnt orange', 'hex': '#c04e01'},\n",
       " {'color': 'neon green', 'hex': '#0cff0c'},\n",
       " {'color': 'bright blue', 'hex': '#0165fc'},\n",
       " {'color': 'rose', 'hex': '#cf6275'},\n",
       " {'color': 'light pink', 'hex': '#ffd1df'},\n",
       " {'color': 'mustard', 'hex': '#ceb301'},\n",
       " {'color': 'indigo', 'hex': '#380282'},\n",
       " {'color': 'lime', 'hex': '#aaff32'},\n",
       " {'color': 'sea green', 'hex': '#53fca1'},\n",
       " {'color': 'periwinkle', 'hex': '#8e82fe'},\n",
       " {'color': 'dark pink', 'hex': '#cb416b'},\n",
       " {'color': 'olive green', 'hex': '#677a04'},\n",
       " {'color': 'peach', 'hex': '#ffb07c'},\n",
       " {'color': 'pale green', 'hex': '#c7fdb5'},\n",
       " {'color': 'light brown', 'hex': '#ad8150'},\n",
       " {'color': 'hot pink', 'hex': '#ff028d'},\n",
       " {'color': 'black', 'hex': '#000000'},\n",
       " {'color': 'lilac', 'hex': '#cea2fd'},\n",
       " {'color': 'navy blue', 'hex': '#001146'},\n",
       " {'color': 'royal blue', 'hex': '#0504aa'},\n",
       " {'color': 'beige', 'hex': '#e6daa6'},\n",
       " {'color': 'salmon', 'hex': '#ff796c'},\n",
       " {'color': 'olive', 'hex': '#6e750e'},\n",
       " {'color': 'maroon', 'hex': '#650021'},\n",
       " {'color': 'bright green', 'hex': '#01ff07'},\n",
       " {'color': 'dark purple', 'hex': '#35063e'},\n",
       " {'color': 'mauve', 'hex': '#ae7181'},\n",
       " {'color': 'forest green', 'hex': '#06470c'},\n",
       " {'color': 'aqua', 'hex': '#13eac9'},\n",
       " {'color': 'cyan', 'hex': '#00ffff'},\n",
       " {'color': 'tan', 'hex': '#d1b26f'},\n",
       " {'color': 'dark blue', 'hex': '#00035b'},\n",
       " {'color': 'lavender', 'hex': '#c79fef'},\n",
       " {'color': 'turquoise', 'hex': '#06c2ac'},\n",
       " {'color': 'dark green', 'hex': '#033500'},\n",
       " {'color': 'violet', 'hex': '#9a0eea'},\n",
       " {'color': 'light purple', 'hex': '#bf77f6'},\n",
       " {'color': 'lime green', 'hex': '#89fe05'},\n",
       " {'color': 'grey', 'hex': '#929591'},\n",
       " {'color': 'sky blue', 'hex': '#75bbfd'},\n",
       " {'color': 'yellow', 'hex': '#ffff14'},\n",
       " {'color': 'magenta', 'hex': '#c20078'},\n",
       " {'color': 'light green', 'hex': '#96f97b'},\n",
       " {'color': 'orange', 'hex': '#f97306'},\n",
       " {'color': 'teal', 'hex': '#029386'},\n",
       " {'color': 'light blue', 'hex': '#95d0fc'},\n",
       " {'color': 'red', 'hex': '#e50000'},\n",
       " {'color': 'brown', 'hex': '#653700'},\n",
       " {'color': 'pink', 'hex': '#ff81c0'},\n",
       " {'color': 'blue', 'hex': '#0343df'},\n",
       " {'color': 'green', 'hex': '#15b01a'},\n",
       " {'color': 'purple', 'hex': '#7e1e9c'}]"
      ]
     },
     "execution_count": 10,
     "metadata": {},
     "output_type": "execute_result"
    }
   ],
   "source": [
    "resp = requests.get('https://raw.githubusercontent.com/dariusk/corpora/master/data/colors/xkcd.json')\n",
    "color_data = resp.json()\n",
    "color_data['colors']"
   ]
  },
  {
   "cell_type": "markdown",
   "metadata": {},
   "source": [
    "The following function converts colors from hex format (`#1a2b3c`) to a tuple of integers:"
   ]
  },
  {
   "cell_type": "code",
   "execution_count": 11,
   "metadata": {},
   "outputs": [],
   "source": [
    "def hex_to_int(s):\n",
    "    return int(s[1:3], 16), int(s[3:5], 16), int(s[5:6], 16)"
   ]
  },
  {
   "cell_type": "code",
   "execution_count": 12,
   "metadata": {},
   "outputs": [
    {
     "data": {
      "text/plain": [
       "(26, 43, 3)"
      ]
     },
     "execution_count": 12,
     "metadata": {},
     "output_type": "execute_result"
    }
   ],
   "source": [
    "hex_to_int('#1a2b3c')"
   ]
  },
  {
   "cell_type": "markdown",
   "metadata": {},
   "source": [
    "And the following cell creates a dictionary and populates it with mappings from color names to RGB vectors for each color in the data:"
   ]
  },
  {
   "cell_type": "code",
   "execution_count": 13,
   "metadata": {},
   "outputs": [],
   "source": [
    "colors = dict()\n",
    "for item in color_data['colors']:\n",
    "    colors[item[\"color\"]] = hex_to_int(item[\"hex\"])"
   ]
  },
  {
   "cell_type": "markdown",
   "metadata": {},
   "source": [
    "Testing it out:"
   ]
  },
  {
   "cell_type": "code",
   "execution_count": 14,
   "metadata": {},
   "outputs": [
    {
     "data": {
      "text/plain": [
       "(110, 117, 0)"
      ]
     },
     "execution_count": 14,
     "metadata": {},
     "output_type": "execute_result"
    }
   ],
   "source": [
    "colors['olive']"
   ]
  },
  {
   "cell_type": "code",
   "execution_count": 15,
   "metadata": {},
   "outputs": [
    {
     "data": {
      "text/plain": [
       "(229, 0, 0)"
      ]
     },
     "execution_count": 15,
     "metadata": {},
     "output_type": "execute_result"
    }
   ],
   "source": [
    "colors['red']"
   ]
  },
  {
   "cell_type": "code",
   "execution_count": 16,
   "metadata": {},
   "outputs": [
    {
     "data": {
      "text/plain": [
       "(0, 0, 0)"
      ]
     },
     "execution_count": 16,
     "metadata": {},
     "output_type": "execute_result"
    }
   ],
   "source": [
    "colors['black']"
   ]
  },
  {
   "cell_type": "code",
   "execution_count": 18,
   "metadata": {
    "collapsed": true,
    "jupyter": {
     "outputs_hidden": true
    }
   },
   "outputs": [
    {
     "data": {
      "text/plain": [
       "dict_keys(['cloudy blue', 'dark pastel green', 'dust', 'electric lime', 'fresh green', 'light eggplant', 'nasty green', 'really light blue', 'tea', 'warm purple', 'yellowish tan', 'cement', 'dark grass green', 'dusty teal', 'grey teal', 'macaroni and cheese', 'pinkish tan', 'spruce', 'strong blue', 'toxic green', 'windows blue', 'blue blue', 'blue with a hint of purple', 'booger', 'bright sea green', 'dark green blue', 'deep turquoise', 'green teal', 'strong pink', 'bland', 'deep aqua', 'lavender pink', 'light moss green', 'light seafoam green', 'olive yellow', 'pig pink', 'deep lilac', 'desert', 'dusty lavender', 'purpley grey', 'purply', 'candy pink', 'light pastel green', 'boring green', 'kiwi green', 'light grey green', 'orange pink', 'tea green', 'very light brown', 'egg shell', 'eggplant purple', 'powder pink', 'reddish grey', 'baby shit brown', 'liliac', 'stormy blue', 'ugly brown', 'custard', 'darkish pink', 'deep brown', 'greenish beige', 'manilla', 'off blue', 'battleship grey', 'browny green', 'bruise', 'kelley green', 'sickly yellow', 'sunny yellow', 'azul', 'darkgreen', 'green/yellow', 'lichen', 'light light green', 'pale gold', 'sun yellow', 'tan green', 'burple', 'butterscotch', 'toupe', 'dark cream', 'indian red', 'light lavendar', 'poison green', 'baby puke green', 'bright yellow green', 'charcoal grey', 'squash', 'cinnamon', 'light pea green', 'radioactive green', 'raw sienna', 'baby purple', 'cocoa', 'light royal blue', 'orangeish', 'rust brown', 'sand brown', 'swamp', 'tealish green', 'burnt siena', 'camo', 'dusk blue', 'fern', 'old rose', 'pale light green', 'peachy pink', 'rosy pink', 'light bluish green', 'light bright green', 'light neon green', 'light seafoam', 'tiffany blue', 'washed out green', 'browny orange', 'nice blue', 'sapphire', 'greyish teal', 'orangey yellow', 'parchment', 'straw', 'very dark brown', 'terracota', 'ugly blue', 'clear blue', 'creme', 'foam green', 'grey/green', 'light gold', 'seafoam blue', 'topaz', 'violet pink', 'wintergreen', 'yellow tan', 'dark fuchsia', 'indigo blue', 'light yellowish green', 'pale magenta', 'rich purple', 'sunflower yellow', 'green/blue', 'leather', 'racing green', 'vivid purple', 'dark royal blue', 'hazel', 'muted pink', 'booger green', 'canary', 'cool grey', 'dark taupe', 'darkish purple', 'true green', 'coral pink', 'dark sage', 'dark slate blue', 'flat blue', 'mushroom', 'rich blue', 'dirty purple', 'greenblue', 'icky green', 'light khaki', 'warm blue', 'dark hot pink', 'deep sea blue', 'carmine', 'dark yellow green', 'pale peach', 'plum purple', 'golden rod', 'neon red', 'old pink', 'very pale blue', 'blood orange', 'grapefruit', 'sand yellow', 'clay brown', 'dark blue grey', 'flat green', 'light green blue', 'warm pink', 'dodger blue', 'gross green', 'ice', 'metallic blue', 'pale salmon', 'sap green', 'algae', 'bluey grey', 'greeny grey', 'highlighter green', 'light light blue', 'light mint', 'raw umber', 'vivid blue', 'deep lavender', 'dull teal', 'light greenish blue', 'mud green', 'pinky', 'red wine', 'shit green', 'tan brown', 'darkblue', 'rosa', 'lipstick', 'pale mauve', 'claret', 'dandelion', 'orangered', 'poop green', 'ruby', 'dark', 'greenish turquoise', 'pastel red', 'piss yellow', 'bright cyan', 'dark coral', 'algae green', 'darkish red', 'reddy brown', 'blush pink', 'camouflage green', 'lawn green', 'putty', 'vibrant blue', 'dark sand', 'purple/blue', 'saffron', 'twilight', 'warm brown', 'bluegrey', 'bubble gum pink', 'duck egg blue', 'greenish cyan', 'petrol', 'royal', 'butter', 'dusty orange', 'off yellow', 'pale olive green', 'orangish', 'leaf', 'light blue grey', 'dried blood', 'lightish purple', 'rusty red', 'lavender blue', 'light grass green', 'light mint green', 'sunflower', 'velvet', 'brick orange', 'lightish red', 'pure blue', 'twilight blue', 'violet red', 'yellowy brown', 'carnation', 'muddy yellow', 'dark seafoam green', 'deep rose', 'dusty red', 'grey/blue', 'lemon lime', 'purple/pink', 'brown yellow', 'purple brown', 'wisteria', 'banana yellow', 'lipstick red', 'water blue', 'brown grey', 'vibrant purple', 'baby green', 'barf green', 'eggshell blue', 'sandy yellow', 'cool green', 'pale', 'blue/grey', 'hot magenta', 'greyblue', 'purpley', 'baby shit green', 'brownish pink', 'dark aquamarine', 'diarrhea', 'light mustard', 'pale sky blue', 'turtle green', 'bright olive', 'dark grey blue', 'greeny brown', 'lemon green', 'light periwinkle', 'seaweed green', 'sunshine yellow', 'ugly purple', 'medium pink', 'puke brown', 'very light pink', 'viridian', 'bile', 'faded yellow', 'very pale green', 'vibrant green', 'bright lime', 'spearmint', 'light aquamarine', 'light sage', 'yellowgreen', 'baby poo', 'dark seafoam', 'deep teal', 'heather', 'rust orange', 'dirty blue', 'fern green', 'bright lilac', 'weird green', 'peacock blue', 'avocado green', 'faded orange', 'grape purple', 'hot green', 'lime yellow', 'mango', 'shamrock', 'bubblegum', 'purplish brown', 'vomit yellow', 'pale cyan', 'key lime', 'tomato red', 'lightgreen', 'merlot', 'night blue', 'purpleish pink', 'apple', 'baby poop green', 'green apple', 'heliotrope', 'yellow/green', 'almost black', 'cool blue', 'leafy green', 'mustard brown', 'dusk', 'dull brown', 'frog green', 'vivid green', 'bright light green', 'fluro green', 'kiwi', 'seaweed', 'navy green', 'ultramarine blue', 'iris', 'pastel orange', 'yellowish orange', 'perrywinkle', 'tealish', 'dark plum', 'pear', 'pinkish orange', 'midnight purple', 'light urple', 'dark mint', 'greenish tan', 'light burgundy', 'turquoise blue', 'ugly pink', 'sandy', 'electric pink', 'muted purple', 'mid green', 'greyish', 'neon yellow', 'banana', 'carnation pink', 'tomato', 'sea', 'muddy brown', 'turquoise green', 'buff', 'fawn', 'muted blue', 'pale rose', 'dark mint green', 'amethyst', 'blue/green', 'chestnut', 'sick green', 'pea', 'rusty orange', 'stone', 'rose red', 'pale aqua', 'deep orange', 'earth', 'mossy green', 'grassy green', 'pale lime green', 'light grey blue', 'pale grey', 'asparagus', 'blueberry', 'purple red', 'pale lime', 'greenish teal', 'caramel', 'deep magenta', 'light peach', 'milk chocolate', 'ocher', 'off green', 'purply pink', 'lightblue', 'dusky blue', 'golden', 'light beige', 'butter yellow', 'dusky purple', 'french blue', 'ugly yellow', 'greeny yellow', 'orangish red', 'shamrock green', 'orangish brown', 'tree green', 'deep violet', 'gunmetal', 'blue/purple', 'cherry', 'sandy brown', 'warm grey', 'dark indigo', 'midnight', 'bluey green', 'grey pink', 'soft purple', 'blood', 'brown red', 'medium grey', 'berry', 'poo', 'purpley pink', 'light salmon', 'snot', 'easter purple', 'light yellow green', 'dark navy blue', 'drab', 'light rose', 'rouge', 'purplish red', 'slime green', 'baby poop', 'irish green', 'pink/purple', 'dark navy', 'greeny blue', 'light plum', 'pinkish grey', 'dirty orange', 'rust red', 'pale lilac', 'orangey red', 'primary blue', 'kermit green', 'brownish purple', 'murky green', 'wheat', 'very dark purple', 'bottle green', 'watermelon', 'deep sky blue', 'fire engine red', 'yellow ochre', 'pumpkin orange', 'pale olive', 'light lilac', 'lightish green', 'carolina blue', 'mulberry', 'shocking pink', 'auburn', 'bright lime green', 'celadon', 'pinkish brown', 'poo brown', 'bright sky blue', 'celery', 'dirt brown', 'strawberry', 'dark lime', 'copper', 'medium brown', 'muted green', \"robin's egg\", 'bright aqua', 'bright lavender', 'ivory', 'very light purple', 'light navy', 'pink red', 'olive brown', 'poop brown', 'mustard green', 'ocean green', 'very dark blue', 'dusty green', 'light navy blue', 'minty green', 'adobe', 'barney', 'jade green', 'bright light blue', 'light lime', 'dark khaki', 'orange yellow', 'ocre', 'maize', 'faded pink', 'british racing green', 'sandstone', 'mud brown', 'light sea green', 'robin egg blue', 'aqua marine', 'dark sea green', 'soft pink', 'orangey brown', 'cherry red', 'burnt yellow', 'brownish grey', 'camel', 'purplish grey', 'marine', 'greyish pink', 'pale turquoise', 'pastel yellow', 'bluey purple', 'canary yellow', 'faded red', 'sepia', 'coffee', 'bright magenta', 'mocha', 'ecru', 'purpleish', 'cranberry', 'darkish green', 'brown orange', 'dusky rose', 'melon', 'sickly green', 'silver', 'purply blue', 'purpleish blue', 'hospital green', 'shit brown', 'mid blue', 'amber', 'easter green', 'soft blue', 'cerulean blue', 'golden brown', 'bright turquoise', 'red pink', 'red purple', 'greyish brown', 'vermillion', 'russet', 'steel grey', 'lighter purple', 'bright violet', 'prussian blue', 'slate green', 'dirty pink', 'dark blue green', 'pine', 'yellowy green', 'dark gold', 'bluish', 'darkish blue', 'dull red', 'pinky red', 'bronze', 'pale teal', 'military green', 'barbie pink', 'bubblegum pink', 'pea soup green', 'dark mustard', 'shit', 'medium purple', 'very dark green', 'dirt', 'dusky pink', 'red violet', 'lemon yellow', 'pistachio', 'dull yellow', 'dark lime green', 'denim blue', 'teal blue', 'lightish blue', 'purpley blue', 'light indigo', 'swamp green', 'brown green', 'dark maroon', 'hot purple', 'dark forest green', 'faded blue', 'drab green', 'light lime green', 'snot green', 'yellowish', 'light blue green', 'bordeaux', 'light mauve', 'ocean', 'marigold', 'muddy green', 'dull orange', 'steel', 'electric purple', 'fluorescent green', 'yellowish brown', 'blush', 'soft green', 'bright orange', 'lemon', 'purple grey', 'acid green', 'pale lavender', 'violet blue', 'light forest green', 'burnt red', 'khaki green', 'cerise', 'faded purple', 'apricot', 'dark olive green', 'grey brown', 'green grey', 'true blue', 'pale violet', 'periwinkle blue', 'light sky blue', 'blurple', 'green brown', 'bluegreen', 'bright teal', 'brownish yellow', 'pea soup', 'forest', 'barney purple', 'ultramarine', 'purplish', 'puke yellow', 'bluish grey', 'dark periwinkle', 'dark lilac', 'reddish', 'light maroon', 'dusty purple', 'terra cotta', 'avocado', 'marine blue', 'teal green', 'slate grey', 'lighter green', 'electric green', 'dusty blue', 'golden yellow', 'bright yellow', 'light lavender', 'umber', 'poop', 'dark peach', 'jungle green', 'eggshell', 'denim', 'yellow brown', 'dull purple', 'chocolate brown', 'wine red', 'neon blue', 'dirty green', 'light tan', 'ice blue', 'cadet blue', 'dark mauve', 'very light blue', 'grey purple', 'pastel pink', 'very light green', 'dark sky blue', 'evergreen', 'dull pink', 'aubergine', 'mahogany', 'reddish orange', 'deep green', 'vomit green', 'purple pink', 'dusty pink', 'faded green', 'camo green', 'pinky purple', 'pink purple', 'brownish red', 'dark rose', 'mud', 'brownish', 'emerald green', 'pale brown', 'dull blue', 'burnt umber', 'medium green', 'clay', 'light aqua', 'light olive green', 'brownish orange', 'dark aqua', 'purplish pink', 'dark salmon', 'greenish grey', 'jade', 'ugly green', 'dark beige', 'emerald', 'pale red', 'light magenta', 'sky', 'light cyan', 'yellow orange', 'reddish purple', 'reddish pink', 'orchid', 'dirty yellow', 'orange red', 'deep red', 'orange brown', 'cobalt blue', 'neon pink', 'rose pink', 'greyish purple', 'raspberry', 'aqua green', 'salmon pink', 'tangerine', 'brownish green', 'red brown', 'greenish brown', 'pumpkin', 'pine green', 'charcoal', 'baby pink', 'cornflower', 'blue violet', 'chocolate', 'greyish green', 'scarlet', 'green yellow', 'dark olive', 'sienna', 'pastel purple', 'terracotta', 'aqua blue', 'sage green', 'blood red', 'deep pink', 'grass', 'moss', 'pastel blue', 'bluish green', 'green blue', 'dark tan', 'greenish blue', 'pale orange', 'vomit', 'forrest green', 'dark lavender', 'dark violet', 'purple blue', 'dark cyan', 'olive drab', 'pinkish', 'cobalt', 'neon purple', 'light turquoise', 'apple green', 'dull green', 'wine', 'powder blue', 'off white', 'electric blue', 'dark turquoise', 'blue purple', 'azure', 'bright red', 'pinkish red', 'cornflower blue', 'light olive', 'grape', 'greyish blue', 'purplish blue', 'yellowish green', 'greenish yellow', 'medium blue', 'dusty rose', 'light violet', 'midnight blue', 'bluish purple', 'red orange', 'dark magenta', 'greenish', 'ocean blue', 'coral', 'cream', 'reddish brown', 'burnt sienna', 'brick', 'sage', 'grey green', 'white', \"robin's egg blue\", 'moss green', 'steel blue', 'eggplant', 'light yellow', 'leaf green', 'light grey', 'puke', 'pinkish purple', 'sea blue', 'pale purple', 'slate blue', 'blue grey', 'hunter green', 'fuchsia', 'crimson', 'pale yellow', 'ochre', 'mustard yellow', 'light red', 'cerulean', 'pale pink', 'deep blue', 'rust', 'light teal', 'slate', 'goldenrod', 'dark yellow', 'dark grey', 'army green', 'grey blue', 'seafoam', 'puce', 'spring green', 'dark orange', 'sand', 'pastel green', 'mint', 'light orange', 'bright pink', 'chartreuse', 'deep purple', 'dark brown', 'taupe', 'pea green', 'puke green', 'kelly green', 'seafoam green', 'blue green', 'khaki', 'burgundy', 'dark teal', 'brick red', 'royal purple', 'plum', 'mint green', 'gold', 'baby blue', 'yellow green', 'bright purple', 'dark red', 'pale blue', 'grass green', 'navy', 'aquamarine', 'burnt orange', 'neon green', 'bright blue', 'rose', 'light pink', 'mustard', 'indigo', 'lime', 'sea green', 'periwinkle', 'dark pink', 'olive green', 'peach', 'pale green', 'light brown', 'hot pink', 'black', 'lilac', 'navy blue', 'royal blue', 'beige', 'salmon', 'olive', 'maroon', 'bright green', 'dark purple', 'mauve', 'forest green', 'aqua', 'cyan', 'tan', 'dark blue', 'lavender', 'turquoise', 'dark green', 'violet', 'light purple', 'lime green', 'grey', 'sky blue', 'yellow', 'magenta', 'light green', 'orange', 'teal', 'light blue', 'red', 'brown', 'pink', 'blue', 'green', 'purple'])"
      ]
     },
     "execution_count": 18,
     "metadata": {},
     "output_type": "execute_result"
    }
   ],
   "source": [
    "colors.keys()"
   ]
  },
  {
   "cell_type": "markdown",
   "metadata": {},
   "source": [
    "### Vector math\n",
    "\n",
    "Before we keep going, we'll need some functions for performing basic vector arithmetic. These functions will work with vectors in spaces of any number of dimensions.\n",
    "\n",
    "The first function returns the Euclidean distance between two points:"
   ]
  },
  {
   "cell_type": "code",
   "execution_count": 19,
   "metadata": {
    "scrolled": true
   },
   "outputs": [
    {
     "data": {
      "text/plain": [
       "5.0990195135927845"
      ]
     },
     "execution_count": 19,
     "metadata": {},
     "output_type": "execute_result"
    }
   ],
   "source": [
    "import math\n",
    "def distance(coord1, coord2):\n",
    "    return np.linalg.norm(np.array(coord1)-np.array(coord2))\n",
    "distance([10, 1], [5, 2])"
   ]
  },
  {
   "cell_type": "markdown",
   "metadata": {},
   "source": [
    "The `subtractv` function subtracts one vector from another:"
   ]
  },
  {
   "cell_type": "code",
   "execution_count": 20,
   "metadata": {},
   "outputs": [
    {
     "data": {
      "text/plain": [
       "[5, -1]"
      ]
     },
     "execution_count": 20,
     "metadata": {},
     "output_type": "execute_result"
    }
   ],
   "source": [
    "def subtractv(coord1, coord2):\n",
    "    return list(np.array(coord1) - np.array(coord2))\n",
    "subtractv([10, 1], [5, 2])"
   ]
  },
  {
   "cell_type": "markdown",
   "metadata": {},
   "source": [
    "The `addv` vector adds two vectors together:"
   ]
  },
  {
   "cell_type": "code",
   "execution_count": 21,
   "metadata": {},
   "outputs": [
    {
     "data": {
      "text/plain": [
       "[15, 3]"
      ]
     },
     "execution_count": 21,
     "metadata": {},
     "output_type": "execute_result"
    }
   ],
   "source": [
    "def addv(coord1, coord2):\n",
    "    return list(np.array(coord1) + np.array(coord2))\n",
    "addv([10, 1], [5, 2])"
   ]
  },
  {
   "cell_type": "markdown",
   "metadata": {},
   "source": [
    "And the `meanv` function takes a list of vectors and finds their mean or average:"
   ]
  },
  {
   "cell_type": "code",
   "execution_count": 22,
   "metadata": {},
   "outputs": [
    {
     "data": {
      "text/plain": [
       "[2.0, 2.0]"
      ]
     },
     "execution_count": 22,
     "metadata": {},
     "output_type": "execute_result"
    }
   ],
   "source": [
    "def meanv(coords):\n",
    "    return list(np.mean(coords, axis=0))\n",
    "meanv([[0, 1], [2, 2], [4, 3]])"
   ]
  },
  {
   "cell_type": "markdown",
   "metadata": {},
   "source": [
    "Just as a test, the following cell shows that the distance from \"red\" to \"green\" is greater than the distance from \"red\" to \"pink\":"
   ]
  },
  {
   "cell_type": "code",
   "execution_count": 23,
   "metadata": {},
   "outputs": [
    {
     "data": {
      "text/plain": [
       "True"
      ]
     },
     "execution_count": 23,
     "metadata": {},
     "output_type": "execute_result"
    }
   ],
   "source": [
    "distance(colors['red'], colors['green']) > distance(colors['red'], colors['pink'])"
   ]
  },
  {
   "cell_type": "markdown",
   "metadata": {},
   "source": [
    "### Finding the closest item\n",
    "\n",
    "Just as we wanted to find the animal that most closely matched an arbitrary point in cuteness/size space, we'll want to find the closest color name to an arbitrary point in RGB space. The easiest way to find the closest item to an arbitrary vector is simply to find the distance between the target vector and each item in the space, in turn, then sort the list from closest to farthest. The `closest()` function below does just that. By default, it returns a list of the ten closest items to the given vector.\n",
    "\n",
    "> Note: Calculating \"closest neighbors\" like this is fine for the examples in this notebook, but unmanageably slow for vector spaces of any appreciable size. As your vector space grows, you'll want to move to a faster solution, like SciPy's [kdtree](https://docs.scipy.org/doc/scipy-0.14.0/reference/generated/scipy.spatial.KDTree.html) or [Annoy](https://pypi.python.org/pypi/annoy)."
   ]
  },
  {
   "cell_type": "code",
   "execution_count": 25,
   "metadata": {},
   "outputs": [],
   "source": [
    "def closest(space, coord, n=10):\n",
    "    return sorted(space.keys(), key=lambda x: distance(coord, space[x]))[:n]"
   ]
  },
  {
   "cell_type": "markdown",
   "metadata": {},
   "source": [
    "Testing it out, we can find the ten colors closest to \"red\":"
   ]
  },
  {
   "cell_type": "code",
   "execution_count": 27,
   "metadata": {},
   "outputs": [
    {
     "data": {
      "text/plain": [
       "['red',\n",
       " 'dark hot pink',\n",
       " 'cerise',\n",
       " 'pink red',\n",
       " 'pinkish red',\n",
       " 'cherry red',\n",
       " 'fuchsia',\n",
       " 'hot magenta',\n",
       " 'cherry',\n",
       " 'fire engine red']"
      ]
     },
     "execution_count": 27,
     "metadata": {},
     "output_type": "execute_result"
    }
   ],
   "source": [
    "closest(colors, colors['red'])"
   ]
  },
  {
   "cell_type": "markdown",
   "metadata": {},
   "source": [
    "... or the ten colors closest to (150, 60, 150):"
   ]
  },
  {
   "cell_type": "code",
   "execution_count": 28,
   "metadata": {},
   "outputs": [
    {
     "data": {
      "text/plain": [
       "['violet pink',\n",
       " 'light magenta',\n",
       " 'barbie pink',\n",
       " 'pink/purple',\n",
       " 'purple pink',\n",
       " 'candy pink',\n",
       " 'heliotrope',\n",
       " 'pink purple',\n",
       " 'purpleish pink',\n",
       " 'pinkish purple']"
      ]
     },
     "execution_count": 28,
     "metadata": {},
     "output_type": "execute_result"
    }
   ],
   "source": [
    "closest(colors, [255, 60, 150])"
   ]
  },
  {
   "cell_type": "markdown",
   "metadata": {},
   "source": [
    "### Color magic\n",
    "\n",
    "The magical part of representing words as vectors is that the vector operations we defined earlier appear to operate on language the same way they operate on numbers. For example, if we find the word closest to the vector resulting from subtracting \"red\" from \"purple,\" we get a series of \"blue\" colors:"
   ]
  },
  {
   "cell_type": "code",
   "execution_count": 38,
   "metadata": {},
   "outputs": [
    {
     "data": {
      "text/plain": [
       "['blood',\n",
       " 'bordeaux',\n",
       " 'dark red',\n",
       " 'merlot',\n",
       " 'wine',\n",
       " 'rich purple',\n",
       " 'wine red',\n",
       " 'crimson',\n",
       " 'red wine',\n",
       " 'claret']"
      ]
     },
     "execution_count": 38,
     "metadata": {},
     "output_type": "execute_result"
    }
   ],
   "source": [
    "closest(colors, subtractv(colors['purple'], colors['blue']))"
   ]
  },
  {
   "cell_type": "markdown",
   "metadata": {},
   "source": [
    "This matches our intuition about RGB colors, which is that purple is a combination of red and blue. Take away the red, and blue is all you have left.\n",
    "\n",
    "You can do something similar with addition. What's blue plus green?"
   ]
  },
  {
   "cell_type": "code",
   "execution_count": 48,
   "metadata": {},
   "outputs": [
    {
     "data": {
      "text/plain": [
       "['spearmint',\n",
       " 'aqua',\n",
       " 'wintergreen',\n",
       " 'bright turquoise',\n",
       " 'bright aqua',\n",
       " 'bright light blue',\n",
       " 'minty green',\n",
       " 'highlighter green',\n",
       " 'electric green',\n",
       " 'aqua green']"
      ]
     },
     "execution_count": 48,
     "metadata": {},
     "output_type": "execute_result"
    }
   ],
   "source": [
    "closest(colors, addv(colors['blue'], colors['green']))"
   ]
  },
  {
   "cell_type": "markdown",
   "metadata": {},
   "source": [
    "That's right, it's something like turquoise or cyan! What if we find the average of black and white? Predictably, we get gray:"
   ]
  },
  {
   "cell_type": "code",
   "execution_count": 49,
   "metadata": {},
   "outputs": [
    {
     "data": {
      "text/plain": [
       "['medium grey',\n",
       " 'drab',\n",
       " 'brownish grey',\n",
       " 'shit green',\n",
       " 'steel',\n",
       " 'brown grey',\n",
       " 'swamp green',\n",
       " 'khaki green',\n",
       " 'grey brown',\n",
       " 'camo']"
      ]
     },
     "execution_count": 49,
     "metadata": {},
     "output_type": "execute_result"
    }
   ],
   "source": [
    "# the average of black and white: medium grey\n",
    "closest(colors, meanv([colors['black'], colors['white']]))"
   ]
  },
  {
   "cell_type": "markdown",
   "metadata": {},
   "source": [
    "Just as with the tarantula/hamster example from the previous section, we can use color vectors to reason about relationships between colors. In the cell below, finding the difference between \"pink\" and \"red\" then adding it to \"blue\" seems to give us a list of colors that are to blue what pink is to red (i.e., a slightly lighter, less saturated shade):"
   ]
  },
  {
   "cell_type": "code",
   "execution_count": 51,
   "metadata": {},
   "outputs": [
    {
     "data": {
      "text/plain": [
       "['greenblue',\n",
       " 'tealish',\n",
       " 'dark mint green',\n",
       " 'algae green',\n",
       " 'topaz',\n",
       " 'seaweed',\n",
       " 'dark seafoam',\n",
       " 'greenish teal',\n",
       " 'turquoise',\n",
       " 'green teal']"
      ]
     },
     "execution_count": 51,
     "metadata": {},
     "output_type": "execute_result"
    }
   ],
   "source": [
    "# an analogy: pink is to red as X is to blue\n",
    "pink_to_red = subtractv(colors['pink'], colors['red'])\n",
    "closest(colors, addv(pink_to_red, colors['blue']))"
   ]
  },
  {
   "cell_type": "markdown",
   "metadata": {},
   "source": [
    "Another example of color analogies: Navy is to blue as true green/dark grass green is to green:"
   ]
  },
  {
   "cell_type": "code",
   "execution_count": 52,
   "metadata": {},
   "outputs": [
    {
     "data": {
      "text/plain": [
       "['dark sea green',\n",
       " 'blue green',\n",
       " 'jungle green',\n",
       " 'dark cyan',\n",
       " 'greenish blue',\n",
       " 'nice blue',\n",
       " 'deep aqua',\n",
       " 'water blue',\n",
       " 'true green',\n",
       " 'emerald green']"
      ]
     },
     "execution_count": 52,
     "metadata": {},
     "output_type": "execute_result"
    }
   ],
   "source": [
    "# another example: \n",
    "navy_to_blue = subtractv(colors['navy'], colors['blue'])\n",
    "closest(colors, addv(navy_to_blue, colors['green']))"
   ]
  },
  {
   "cell_type": "markdown",
   "metadata": {},
   "source": [
    "The examples above are fairly simple from a mathematical perspective but nevertheless *feel* magical: they're demonstrating that it's possible to use math to reason about how people use language."
   ]
  },
  {
   "cell_type": "markdown",
   "metadata": {},
   "source": [
    "### Doing bad digital humanities with color vectors\n",
    "\n",
    "With the tools above in hand, we can start using our vectorized knowledge of language toward academic ends. In the following example, let's calculate the average color of Bram Stoker's *Dracula*.\n",
    "\n",
    "First, we'll load [spaCy](https://spacy.io/):"
   ]
  },
  {
   "cell_type": "code",
   "execution_count": 53,
   "metadata": {},
   "outputs": [],
   "source": [
    "import spacy\n",
    "\n",
    "# !pip install https://github.com/explosion/spacy-models/releases/download/en_core_web_sm-2.2.0/en_core_web_sm-2.2.0.tar.gz\n",
    "\n",
    "# nlp = spacy.load('en_core_web_sm')\n",
    "import en_core_web_sm\n",
    "nlp = en_core_web_sm.load()"
   ]
  },
  {
   "cell_type": "markdown",
   "metadata": {},
   "source": [
    "To calculate the average color, we'll follow these steps:\n",
    "\n",
    "1. Parse the text into words\n",
    "2. Check every word to see if it names a color in our vector space. If it does, add it to a list of vectors.\n",
    "3. Find the average of that list of vectors.\n",
    "4. Find the color(s) closest to that average vector.\n",
    "\n",
    "The following cell performs steps 1-3:"
   ]
  },
  {
   "cell_type": "code",
   "execution_count": 54,
   "metadata": {},
   "outputs": [
    {
     "name": "stdout",
     "output_type": "stream",
     "text": [
      "[147.44839067702551, 113.65371809100999, 5.871254162042176]\n"
     ]
    }
   ],
   "source": [
    "resp = requests.get('http://www.gutenberg.org/cache/epub/345/pg345.txt')\n",
    "dracula = nlp(resp.text)\n",
    "# use word.lower_ to normalize case\n",
    "drac_colors = [colors[word.lower_] for word in dracula if word.lower_ in colors]\n",
    "avg_color = meanv(drac_colors)\n",
    "print(avg_color)"
   ]
  },
  {
   "cell_type": "markdown",
   "metadata": {},
   "source": [
    "Now, we'll pass the averaged color vector to the `closest()` function, yielding... well, it's just a brown mush, which is kinda what you'd expect from adding a bunch of colors together willy-nilly."
   ]
  },
  {
   "cell_type": "code",
   "execution_count": 55,
   "metadata": {},
   "outputs": [
    {
     "data": {
      "text/plain": [
       "['faded purple',\n",
       " 'reddish grey',\n",
       " 'deep lilac',\n",
       " 'poo',\n",
       " 'puke brown',\n",
       " 'hazel',\n",
       " 'brownish',\n",
       " 'dirt',\n",
       " 'mocha',\n",
       " 'dark lilac']"
      ]
     },
     "execution_count": 55,
     "metadata": {},
     "output_type": "execute_result"
    }
   ],
   "source": [
    "closest(colors, avg_color)"
   ]
  },
  {
   "cell_type": "markdown",
   "metadata": {},
   "source": [
    "On the other hand, here's what we get when we average the colors of Charlotte Perkins Gilman's classic *The Yellow Wallpaper*. The result definitely reflects the content of the story, so maybe we're on to something here."
   ]
  },
  {
   "cell_type": "code",
   "execution_count": 56,
   "metadata": {},
   "outputs": [
    {
     "data": {
      "text/plain": [
       "['dirty yellow',\n",
       " 'vomit yellow',\n",
       " 'ugly yellow',\n",
       " 'puke yellow',\n",
       " 'mustard yellow',\n",
       " 'silver',\n",
       " 'greenish beige',\n",
       " 'light periwinkle',\n",
       " 'greenish tan',\n",
       " 'olive yellow']"
      ]
     },
     "execution_count": 56,
     "metadata": {},
     "output_type": "execute_result"
    }
   ],
   "source": [
    "resp = requests.get('http://www.gutenberg.org/cache/epub/1952/pg1952.txt')\n",
    "yellow = nlp(resp.text)\n",
    "wallpaper_colors = [colors[word.lower_] for word in yellow if word.lower_ in colors]\n",
    "avg_color = meanv(wallpaper_colors)\n",
    "closest(colors, avg_color)"
   ]
  },
  {
   "cell_type": "markdown",
   "metadata": {},
   "source": [
    "Exercise for the reader: Use the vector arithmetic functions to rewrite a text, making it...\n",
    "\n",
    "* more blue (i.e., add `colors['blue']` to each occurrence of a color word); or\n",
    "* more light (i.e., add `colors['white']` to each occurrence of a color word); or\n",
    "* darker (i.e., attenuate each color. You might need to write a vector multiplication function to do this one right.)"
   ]
  },
  {
   "cell_type": "markdown",
   "metadata": {},
   "source": [
    "## Distributional semantics\n",
    "\n",
    "In the previous section, the examples are interesting because of a simple fact: colors that we think of as similar are \"closer\" to each other in RGB vector space. In our color vector space, or in our animal cuteness/size space, you can think of the words identified by vectors close to each other as being *synonyms*, in a sense: they sort of \"mean\" the same thing. They're also, for many purposes, *functionally identical*. Think of this in terms of writing, say, a search engine. If someone searches for \"mauve trousers,\" then it's probably also okay to show them results for, say,"
   ]
  },
  {
   "cell_type": "code",
   "execution_count": 85,
   "metadata": {},
   "outputs": [
    {
     "name": "stdout",
     "output_type": "stream",
     "text": [
      "mauve trousers\n",
      "pinkish brown trousers\n",
      "leather trousers\n",
      "clay brown trousers\n",
      "caramel trousers\n",
      "soft purple trousers\n",
      "light urple trousers\n",
      "clay trousers\n",
      "golden brown trousers\n",
      "bronze trousers\n"
     ]
    }
   ],
   "source": [
    "for cname in closest(colors, colors['mauve']):\n",
    "    print(cname, \"trousers\")"
   ]
  },
  {
   "cell_type": "markdown",
   "metadata": {},
   "source": [
    "That's all well and good for color words, which intuitively seem to exist in a multidimensional continuum of perception, and for our animal space, where we've written out the vectors ahead of time. But what about... arbitrary words? Is it possible to create a vector space for all English words that has this same \"closer in space is closer in meaning\" property?\n",
    "\n",
    "To answer that, we have to back up a bit and ask the question: what does *meaning* mean? No one really knows, but one theory popular among computational linguists, computer scientists and other people who make search engines is the [Distributional Hypothesis](https://en.wikipedia.org/wiki/Distributional_semantics), which states that:\n",
    "\n",
    "    Linguistic items with similar distributions have similar meanings.\n",
    "    \n",
    "What's meant by \"similar distributions\" is *similar contexts*. Take for example the following sentences:\n",
    "\n",
    "    It was really cold yesterday.\n",
    "    It will be really warm today, though.\n",
    "    It'll be really hot tomorrow!\n",
    "    Will it be really cool Tuesday?\n",
    "    \n",
    "According to the Distributional Hypothesis, the words `cold`, `warm`, `hot` and `cool` must be related in some way (i.e., be close in meaning) because they occur in a similar context, i.e., between the word \"really\" and a word indicating a particular day. (Likewise, the words `yesterday`, `today`, `tomorrow` and `Tuesday` must be related, since they occur in the context of a word indicating a temperature.)\n",
    "\n",
    "In other words, according to the Distributional Hypothesis, a word's meaning is just a big list of all the contexts it occurs in. Two words are closer in meaning if they share contexts."
   ]
  },
  {
   "cell_type": "markdown",
   "metadata": {},
   "source": [
    "## Word vectors by counting contexts\n",
    "\n",
    "So how do we turn this insight from the Distributional Hypothesis into a system for creating general-purpose vectors that capture the meaning of words? Maybe you can see where I'm going with this. What if we made a *really big* spreadsheet that had one column for every context for every word in a given source text. Let's use a small source text to begin with, such as this excerpt from Dickens:\n",
    "\n",
    "    It was the best of times, it was the worst of times.\n",
    "\n",
    "Such a spreadsheet might look something like this:\n",
    "\n",
    "![dickens contexts](http://static.decontextualize.com/snaps/best-of-times.png)\n",
    "\n",
    "The spreadsheet has one column for every possible context, and one row for every word. The values in each cell correspond with how many times the word occurs in the given context. The numbers in the columns constitute that word's vector, i.e., the vector for the word `of` is\n",
    "\n",
    "    [0, 0, 0, 0, 1, 0, 0, 0, 1, 0]\n",
    "    \n",
    "You could use the same distance formula that we defined earlier to get useful information about which vectors in this space are similar to each other. In particular, the vectors for `best` and `worst` are actually the same (a distance of zero), since they occur only in the same context (`the ___ of`):\n",
    "\n",
    "    [0, 0, 0, 1, 0, 0, 0, 0, 0, 0]\n",
    "    \n",
    "Of course, the conventional way of thinking about \"best\" and \"worst\" is that they're *antonyms*, not *synonyms*. But they're also clearly two words of the same kind, with related meanings (through opposition), a fact that is captured by this distributional model.\n",
    "\n",
    "### Contexts and dimensionality\n",
    "\n",
    "Of course, in a corpus of any reasonable size, there will be many thousands if not many millions of possible contexts. It's difficult enough working with a vector space of ten dimensions, let alone a vector space of a million dimensions! It turns out, though, that many of the dimensions end up being superfluous and can either be eliminated or combined with other dimensions without significantly affecting the predictive power of the resulting vectors. The process of getting rid of superfluous dimensions in a vector space is called [dimensionality reduction](https://en.wikipedia.org/wiki/Dimensionality_reduction), and most implementations of count-based word vectors make use of dimensionality reduction so that the resulting vector space has a reasonable number of dimensions (say, 100—300, depending on the corpus and application).\n",
    "\n",
    "The question of how to identify a \"context\" is itself very difficult to answer. In the toy example above, we've said that a \"context\" is just the word that precedes and the word that follows. Depending on your implementation of this procedure, though, you might want a context with a bigger \"window\" (e.g., two words before and after), or a non-contiguous window (skip a word before and after the given word). You might exclude certain \"function\" words like \"the\" and \"of\" when determining a word's context, or you might [lemmatize](https://en.wikipedia.org/wiki/Lemmatisation) the words before you begin your analysis, so two occurrences with different \"forms\" of the same word count as the same context. These are all questions open to research and debate, and different implementations of procedures for creating count-based word vectors make different decisions on this issue.\n",
    "\n",
    "### GloVe vectors\n",
    "\n",
    "But you don't have to create your own word vectors from scratch! Many researchers have made downloadable databases of pre-trained vectors. One such project is Stanford's [Global Vectors for Word Representation (GloVe)](https://nlp.stanford.edu/projects/glove/). These 300-dimensional vectors are included with spaCy, and they're the vectors we'll be using for the rest of this tutorial."
   ]
  },
  {
   "cell_type": "markdown",
   "metadata": {},
   "source": [
    "## Word vectors in spaCy\n",
    "\n",
    "Okay, let's have some fun with real word vectors. We're going to use the GloVe vectors that come with spaCy to creatively analyze and manipulate the text of Bram Stoker's *Dracula*. First, make sure you've got `spacy` imported:"
   ]
  },
  {
   "cell_type": "code",
   "execution_count": 2,
   "metadata": {},
   "outputs": [
    {
     "ename": "NameError",
     "evalue": "name 'dracula' is not defined",
     "output_type": "error",
     "traceback": [
      "\u001b[0;31m---------------------------------------------------------------------------\u001b[0m",
      "\u001b[0;31mNameError\u001b[0m                                 Traceback (most recent call last)",
      "\u001b[0;32m<ipython-input-2-3e6226c33ce6>\u001b[0m in \u001b[0;36m<module>\u001b[0;34m\u001b[0m\n\u001b[0;32m----> 1\u001b[0;31m \u001b[0mdracula\u001b[0m\u001b[0;34m\u001b[0m\u001b[0;34m\u001b[0m\u001b[0m\n\u001b[0m",
      "\u001b[0;31mNameError\u001b[0m: name 'dracula' is not defined"
     ]
    }
   ],
   "source": [
    "dracula"
   ]
  },
  {
   "cell_type": "code",
   "execution_count": 3,
   "metadata": {},
   "outputs": [
    {
     "ename": "NameError",
     "evalue": "name 'dracula' is not defined",
     "output_type": "error",
     "traceback": [
      "\u001b[0;31m---------------------------------------------------------------------------\u001b[0m",
      "\u001b[0;31mNameError\u001b[0m                                 Traceback (most recent call last)",
      "\u001b[0;32m<ipython-input-3-2b3527bad5b6>\u001b[0m in \u001b[0;36m<module>\u001b[0;34m\u001b[0m\n\u001b[0;32m----> 1\u001b[0;31m \u001b[0mdracula\u001b[0m\u001b[0;34m[\u001b[0m\u001b[0;36m560\u001b[0m\u001b[0;34m]\u001b[0m\u001b[0;34m\u001b[0m\u001b[0;34m\u001b[0m\u001b[0m\n\u001b[0m",
      "\u001b[0;31mNameError\u001b[0m: name 'dracula' is not defined"
     ]
    }
   ],
   "source": [
    "dracula[560]"
   ]
  },
  {
   "cell_type": "code",
   "execution_count": 1,
   "metadata": {},
   "outputs": [
    {
     "ename": "AttributeError",
     "evalue": "'str' object has no attribute 'vector'",
     "output_type": "error",
     "traceback": [
      "\u001b[0;31m---------------------------------------------------------------------------\u001b[0m",
      "\u001b[0;31mAttributeError\u001b[0m                            Traceback (most recent call last)",
      "\u001b[0;32m<ipython-input-1-faca8a53c89e>\u001b[0m in \u001b[0;36m<module>\u001b[0;34m\u001b[0m\n\u001b[0;32m----> 1\u001b[0;31m \u001b[0m_\u001b[0m\u001b[0;34m.\u001b[0m\u001b[0mvector\u001b[0m\u001b[0;34m\u001b[0m\u001b[0;34m\u001b[0m\u001b[0m\n\u001b[0m",
      "\u001b[0;31mAttributeError\u001b[0m: 'str' object has no attribute 'vector'"
     ]
    }
   ],
   "source": [
    "_.vector"
   ]
  },
  {
   "cell_type": "code",
   "execution_count": 75,
   "metadata": {},
   "outputs": [],
   "source": [
    "# !pip install https://github.com/explosion/spacy-models/releases/download/en_core_web_lg-2.2.0/en_core_web_lg-2.2.0.tar.gz\n",
    "import en_core_web_lg\n",
    "nlp = en_core_web_lg.load()"
   ]
  },
  {
   "cell_type": "code",
   "execution_count": 76,
   "metadata": {},
   "outputs": [],
   "source": [
    "resp = requests.get('http://www.gutenberg.org/cache/epub/345/pg345.txt')\n",
    "dracula = nlp(resp.text)\n"
   ]
  },
  {
   "cell_type": "markdown",
   "metadata": {},
   "source": [
    "And the cell below creates a list of unique words (or tokens) in the text, as a list of strings."
   ]
  },
  {
   "cell_type": "code",
   "execution_count": 78,
   "metadata": {},
   "outputs": [],
   "source": [
    "# all of the words in the text file\n",
    "tokens = list(set([w.text for w in dracula if w.is_alpha]))"
   ]
  },
  {
   "cell_type": "markdown",
   "metadata": {},
   "source": [
    "You can see the vector of any word in spaCy's vocabulary using the `vocab` attribute, like so:"
   ]
  },
  {
   "cell_type": "code",
   "execution_count": 79,
   "metadata": {
    "scrolled": true
   },
   "outputs": [
    {
     "data": {
      "text/plain": [
       "array([ 2.1834e-01, -1.3299e-01, -4.1432e-01, -2.6727e-01, -3.1470e-01,\n",
       "        9.5255e-02, -2.0279e-01, -9.1433e-01, -1.2003e-01,  1.8633e+00,\n",
       "       -1.0121e-01,  4.6772e-01,  2.2060e-01, -1.7968e-01, -4.3688e-01,\n",
       "        1.2605e-01,  3.3818e-01,  2.0396e+00,  6.4102e-01, -3.7715e-02,\n",
       "       -2.8523e-01,  9.9713e-01, -1.9332e-01,  1.2079e-01, -1.6568e-01,\n",
       "       -4.6864e-01,  5.4998e-02,  2.7307e-02, -1.0294e-01,  2.5487e-01,\n",
       "       -1.2256e-01,  6.0957e-01,  3.3197e-01,  1.8367e-01,  8.5768e-01,\n",
       "       -4.8490e-01, -3.3798e-01,  1.7753e-01, -5.1494e-01, -2.6839e-01,\n",
       "        1.9204e-01, -1.8382e-01, -2.9379e-01, -1.7273e-01,  6.2889e-02,\n",
       "        3.1027e-01,  1.1379e-01, -1.7465e-01, -6.1396e-02, -1.4410e-01,\n",
       "       -1.4440e-01, -5.7887e-01, -2.9628e-02,  1.4473e-01,  4.7104e-02,\n",
       "       -2.4339e-01, -1.3772e-01, -1.3604e-01,  5.7015e-03,  4.1673e-01,\n",
       "        4.9713e-01,  3.3918e-01, -1.9509e-01, -7.6824e-02,  3.3411e-01,\n",
       "        2.1945e-01,  9.9184e-02, -2.3811e-01, -4.5448e-01,  3.8414e-01,\n",
       "       -1.7091e-01, -6.2347e-01,  3.3531e-01, -5.4119e-01,  3.1132e-01,\n",
       "        2.7263e-02, -1.2223e-01, -3.0095e-01,  5.7235e-01, -2.3518e-01,\n",
       "       -4.2102e-01,  6.1766e-01, -1.8180e-01, -6.2970e-03,  3.2947e-01,\n",
       "        7.6717e-02,  1.1484e+00,  6.6099e-01,  5.5122e-01,  7.2289e-01,\n",
       "       -4.1324e-01,  1.5525e-01, -2.0365e-01,  1.0259e-01, -3.8892e-01,\n",
       "        2.8605e-01,  4.9953e-02, -1.0320e-01,  4.3324e-01,  1.7904e-01,\n",
       "       -3.6355e-01,  7.9846e-01, -2.0136e-01,  1.7701e-01,  1.0033e-01,\n",
       "       -3.4960e-01, -2.4379e-01,  8.3823e-02, -1.9306e-02, -4.4721e-02,\n",
       "        5.9586e-01,  9.8052e-02, -7.4861e-02, -5.5329e-01, -1.9368e-01,\n",
       "       -6.3283e-01,  3.1716e-02,  2.9140e-01,  5.8361e-01,  1.6783e-01,\n",
       "       -5.3215e-01, -2.7773e-02,  2.6325e-01,  2.9077e-01,  5.1260e-02,\n",
       "       -2.7384e-01,  3.9427e-02, -2.6532e-01,  2.9139e-01, -8.5257e-02,\n",
       "       -4.5479e-02, -6.5868e-01, -5.0127e-01,  5.1720e-01,  3.5939e-01,\n",
       "        1.2026e-01,  3.7174e-01,  5.2048e-01,  3.8228e-01, -1.9890e-01,\n",
       "       -1.8153e+00, -1.4451e-01,  5.1755e-01, -4.3667e-03, -1.1594e-01,\n",
       "        3.8100e-01, -4.8937e-01, -1.0546e-01,  7.1601e-01, -8.4496e-01,\n",
       "        6.5262e-02,  4.4825e-02,  2.5771e-01, -4.0222e-01,  1.1089e-01,\n",
       "       -6.3001e-02,  1.0608e+00, -7.9814e-02, -3.9532e-01, -1.1846e-01,\n",
       "       -3.6398e-01, -2.5581e-01, -1.5619e-01, -2.9059e-01,  6.5565e-01,\n",
       "       -3.5567e-01,  2.2907e-01, -8.3052e-02, -4.1402e-01,  1.9146e-02,\n",
       "       -8.5919e-01, -1.1737e-01, -5.6951e-01, -9.4201e-02,  2.1748e-01,\n",
       "        8.7590e-02,  4.5969e-02,  4.4932e-01, -3.2417e-01,  2.3669e-01,\n",
       "       -1.8931e-01, -4.5913e-01,  2.6174e-01, -6.2503e-02,  4.9389e-02,\n",
       "       -5.8099e-02, -5.4110e-02,  2.8125e-01,  5.8696e-01,  2.6629e-01,\n",
       "       -8.9782e-01,  1.5297e-01,  2.3805e-01,  2.1600e-01, -9.0914e-02,\n",
       "       -4.3225e-01,  2.1676e-01, -3.0957e-01, -7.9086e-01, -4.0852e-01,\n",
       "       -2.1031e-01,  3.6567e-01, -1.3456e-01, -2.8684e-01,  2.7394e-01,\n",
       "        4.5488e-02,  6.9071e-02,  2.4687e-02,  4.9670e-02, -3.2005e-01,\n",
       "       -6.9404e-01,  3.8690e-02,  1.2212e-01, -2.7075e-01, -5.8472e-02,\n",
       "        9.6816e-02, -1.8298e-01, -1.7329e-01, -5.4575e-01,  2.4282e-01,\n",
       "       -1.7691e-01, -1.0858e-01, -2.2376e-03, -1.0254e-01,  2.4893e-01,\n",
       "        6.0918e-03, -6.3260e-01, -2.3899e-01,  1.9379e-01,  4.6727e-02,\n",
       "        2.4206e-01,  6.1425e-04,  4.8213e-01, -3.1727e-01,  1.7908e-02,\n",
       "       -6.5270e-01,  2.8397e-01, -4.8508e-01, -3.6760e-01,  2.6044e-01,\n",
       "       -4.3721e-01, -3.2225e-01, -7.9445e-01,  5.2928e-01,  6.0802e-02,\n",
       "       -1.4308e-02, -2.8519e-01, -5.2797e-01, -1.9004e-01,  8.8370e-02,\n",
       "        7.2179e-02, -7.9237e-02,  3.0206e-01,  3.1595e-01, -3.5800e-01,\n",
       "        6.0252e-01,  3.8618e-01, -2.8455e-01, -2.0180e-01,  1.3371e-02,\n",
       "       -8.9294e-02,  5.2570e-02,  1.9527e-01, -6.5075e-01,  4.5777e-01,\n",
       "       -1.9331e-01, -3.8348e-01,  3.4441e-01, -1.9736e+00,  3.8647e-02,\n",
       "        1.8371e-01, -4.2696e-01, -2.3343e-01, -2.9290e-01, -5.2594e-01,\n",
       "       -1.5235e-01,  1.0864e-01,  8.6261e-02, -7.9163e-02,  3.4509e-01,\n",
       "        9.6354e-01,  3.0722e-01, -4.5468e-01, -5.2366e-01,  4.4411e-01,\n",
       "        1.5092e-01,  3.5610e-01,  4.0374e-01,  7.8975e-02,  2.1983e-01,\n",
       "        1.1642e-01, -2.7065e-01,  3.9721e-01, -4.6869e-02, -1.0589e-01,\n",
       "        1.2420e-01, -3.2067e-01,  1.0997e-01, -2.4936e-01, -1.3664e-01],\n",
       "      dtype=float32)"
      ]
     },
     "execution_count": 79,
     "metadata": {},
     "output_type": "execute_result"
    }
   ],
   "source": [
    "nlp.vocab['bed'].vector "
   ]
  },
  {
   "cell_type": "markdown",
   "metadata": {},
   "source": [
    "For the sake of convenience, the following function gets the vector of a given string from spaCy's vocabulary:"
   ]
  },
  {
   "cell_type": "code",
   "execution_count": 80,
   "metadata": {},
   "outputs": [],
   "source": [
    "def vec(s):\n",
    "    return nlp.vocab[s].vector"
   ]
  },
  {
   "cell_type": "markdown",
   "metadata": {},
   "source": [
    "### Cosine similarity and finding closest neighbors"
   ]
  },
  {
   "cell_type": "code",
   "execution_count": 81,
   "metadata": {},
   "outputs": [],
   "source": [
    "from sklearn.metrics.pairwise import cosine_similarity"
   ]
  },
  {
   "cell_type": "markdown",
   "metadata": {},
   "source": [
    "The following cell shows that the cosine similarity between `dog` and `puppy` is larger than the similarity between `trousers` and `octopus`, thereby demonstrating that the vectors are working how we expect them to:"
   ]
  },
  {
   "cell_type": "code",
   "execution_count": 82,
   "metadata": {},
   "outputs": [
    {
     "data": {
      "text/plain": [
       "True"
      ]
     },
     "execution_count": 82,
     "metadata": {},
     "output_type": "execute_result"
    }
   ],
   "source": [
    "(cosine_similarity(vec('dog').reshape(1, -1), vec('puppy').reshape(1, -1))[0][0] > \n",
    "    cosine_similarity(vec('trousers').reshape(1, -1), vec('octopus').reshape(1, -1))[0][0])"
   ]
  },
  {
   "cell_type": "markdown",
   "metadata": {},
   "source": [
    "The following cell defines a function that iterates through a list of tokens and returns the token whose vector is most similar to a given vector."
   ]
  },
  {
   "cell_type": "code",
   "execution_count": 83,
   "metadata": {},
   "outputs": [],
   "source": [
    "def spacy_closest(token_list, vec_to_check, n=10):\n",
    "    return sorted(token_list,\n",
    "                  key=lambda x: cosine_similarity(vec_to_check.reshape(1, -1), \n",
    "                                                  vec(x).reshape(1, -1))[0][0],\n",
    "                  reverse=True)[:n]"
   ]
  },
  {
   "cell_type": "markdown",
   "metadata": {},
   "source": [
    "Using this function, we can get a list of synonyms, or words closest in meaning (or distribution, depending on how you look at it), to any arbitrary word in spaCy's vocabulary. In the following example, we're finding the words in *Dracula* closest to \"basketball\":"
   ]
  },
  {
   "cell_type": "code",
   "execution_count": 103,
   "metadata": {
    "scrolled": true
   },
   "outputs": [
    {
     "data": {
      "text/plain": [
       "['food',\n",
       " 'meal',\n",
       " 'meals',\n",
       " 'eating',\n",
       " 'eat',\n",
       " 'meat',\n",
       " 'eaten',\n",
       " 'delicious',\n",
       " 'lunch',\n",
       " 'diet']"
      ]
     },
     "execution_count": 103,
     "metadata": {},
     "output_type": "execute_result"
    }
   ],
   "source": [
    "# what's the closest equivalent of basketball?\n",
    "spacy_closest(tokens, vec(\"food\"))"
   ]
  },
  {
   "cell_type": "markdown",
   "metadata": {},
   "source": [
    "### Fun with spaCy, Dracula, and vector arithmetic\n",
    "\n",
    "Now we can start doing vector arithmetic and finding the closest words to the resulting vectors. For example, what word is closest to the halfway point between day and night?"
   ]
  },
  {
   "cell_type": "code",
   "execution_count": 104,
   "metadata": {},
   "outputs": [
    {
     "data": {
      "text/plain": [
       "['night',\n",
       " 'day',\n",
       " 'Day',\n",
       " 'Evening',\n",
       " 'evening',\n",
       " 'morning',\n",
       " 'Morning',\n",
       " 'afternoon',\n",
       " 'nights',\n",
       " 'Nights']"
      ]
     },
     "execution_count": 104,
     "metadata": {},
     "output_type": "execute_result"
    }
   ],
   "source": [
    "# halfway between day and night\n",
    "spacy_closest(tokens, np.array(meanv([vec(\"day\"), vec(\"night\")])))"
   ]
  },
  {
   "cell_type": "markdown",
   "metadata": {},
   "source": [
    "Variations of `night` and `day` are still closest, but after that we get words like `evening` and `morning`, which are indeed halfway between day and night!"
   ]
  },
  {
   "cell_type": "markdown",
   "metadata": {},
   "source": [
    "Here are the closest words in _Dracula_ to \"wine\":"
   ]
  },
  {
   "cell_type": "code",
   "execution_count": 105,
   "metadata": {},
   "outputs": [
    {
     "data": {
      "text/plain": [
       "['wine',\n",
       " 'beer',\n",
       " 'bottle',\n",
       " 'Drink',\n",
       " 'drink',\n",
       " 'cellar',\n",
       " 'fruit',\n",
       " 'bottles',\n",
       " 'brandy',\n",
       " 'taste']"
      ]
     },
     "execution_count": 105,
     "metadata": {},
     "output_type": "execute_result"
    }
   ],
   "source": [
    "spacy_closest(tokens, vec(\"wine\"))"
   ]
  },
  {
   "cell_type": "markdown",
   "metadata": {},
   "source": [
    "If you subtract \"alcohol\" from \"wine\" and find the closest words to the resulting vector, you're left with simply a lovely dinner:"
   ]
  },
  {
   "cell_type": "code",
   "execution_count": 107,
   "metadata": {},
   "outputs": [
    {
     "data": {
      "text/plain": [
       "['wine',\n",
       " 'cellar',\n",
       " 'exquisite',\n",
       " 'fabulous',\n",
       " 'splendid',\n",
       " 'magnificent',\n",
       " 'delightful',\n",
       " 'Dinner',\n",
       " 'dinner',\n",
       " 'sparkling']"
      ]
     },
     "execution_count": 107,
     "metadata": {},
     "output_type": "execute_result"
    }
   ],
   "source": [
    "spacy_closest(tokens, np.array(subtractv(vec(\"wine\"), vec(\"alcohol\"))))"
   ]
  },
  {
   "cell_type": "markdown",
   "metadata": {},
   "source": [
    "The closest words to \"water\":"
   ]
  },
  {
   "cell_type": "code",
   "execution_count": 107,
   "metadata": {},
   "outputs": [
    {
     "data": {
      "text/plain": [
       "['water',\n",
       " 'waters',\n",
       " 'salt',\n",
       " 'Salt',\n",
       " 'pond',\n",
       " 'dry',\n",
       " 'liquid',\n",
       " 'ocean',\n",
       " 'boiling',\n",
       " 'heat']"
      ]
     },
     "execution_count": 107,
     "metadata": {},
     "output_type": "execute_result"
    }
   ],
   "source": [
    "spacy_closest(tokens, vec(\"water\"))"
   ]
  },
  {
   "cell_type": "markdown",
   "metadata": {},
   "source": [
    "But if you add \"frozen\" to \"water,\" you get \"ice\":"
   ]
  },
  {
   "cell_type": "code",
   "execution_count": 108,
   "metadata": {},
   "outputs": [
    {
     "data": {
      "text/plain": [
       "['water',\n",
       " 'cold',\n",
       " 'ice',\n",
       " 'salt',\n",
       " 'Salt',\n",
       " 'dry',\n",
       " 'fresh',\n",
       " 'liquid',\n",
       " 'boiling',\n",
       " 'milk']"
      ]
     },
     "execution_count": 108,
     "metadata": {},
     "output_type": "execute_result"
    }
   ],
   "source": [
    "spacy_closest(tokens, np.array(addv(vec(\"water\"), vec(\"frozen\"))))"
   ]
  },
  {
   "cell_type": "markdown",
   "metadata": {},
   "source": [
    "You can even do analogies! For example, the words most similar to \"grass\":"
   ]
  },
  {
   "cell_type": "code",
   "execution_count": 109,
   "metadata": {
    "scrolled": true
   },
   "outputs": [
    {
     "data": {
      "text/plain": [
       "['grass',\n",
       " 'lawn',\n",
       " 'trees',\n",
       " 'greens',\n",
       " 'grassy',\n",
       " 'garden',\n",
       " 'GARDEN',\n",
       " 'sand',\n",
       " 'foliage',\n",
       " 'tree']"
      ]
     },
     "execution_count": 109,
     "metadata": {},
     "output_type": "execute_result"
    }
   ],
   "source": [
    "spacy_closest(tokens, vec(\"grass\"))"
   ]
  },
  {
   "cell_type": "markdown",
   "metadata": {},
   "source": [
    "If you take the difference of \"blue\" and \"sky\" and add it to grass, you get the analogous word (\"green\"):"
   ]
  },
  {
   "cell_type": "code",
   "execution_count": 341,
   "metadata": {
    "scrolled": true
   },
   "outputs": [
    {
     "data": {
      "text/plain": [
       "['grass',\n",
       " 'green',\n",
       " 'GREEN',\n",
       " 'Green',\n",
       " 'yellow',\n",
       " 'Red',\n",
       " 'red',\n",
       " 'purple',\n",
       " 'lawn',\n",
       " 'pink']"
      ]
     },
     "execution_count": 341,
     "metadata": {},
     "output_type": "execute_result"
    }
   ],
   "source": [
    "# analogy: blue is to sky as X is to grass\n",
    "blue_to_sky = subtractv(vec(\"blue\"), vec(\"sky\"))\n",
    "spacy_closest(tokens, np.array(addv(blue_to_sky, vec(\"grass\"))))"
   ]
  },
  {
   "cell_type": "code",
   "execution_count": 117,
   "metadata": {},
   "outputs": [
    {
     "data": {
      "text/plain": [
       "['girl',\n",
       " 'boy',\n",
       " 'girls',\n",
       " 'Lady',\n",
       " 'lady',\n",
       " 'Woman',\n",
       " 'woman',\n",
       " 'boys',\n",
       " 'kid',\n",
       " 'chick']"
      ]
     },
     "execution_count": 117,
     "metadata": {},
     "output_type": "execute_result"
    }
   ],
   "source": [
    "blue_to_sky = subtractv(vec(\"queen\"), vec(\"king\"))\n",
    "spacy_closest(tokens, np.array(addv(blue_to_sky, vec(\"boy\"))))"
   ]
  },
  {
   "cell_type": "markdown",
   "metadata": {},
   "source": [
    "## Further resources\n",
    "\n",
    "* [Word2vec](https://en.wikipedia.org/wiki/Word2vec) is another procedure for producing word vectors which uses a predictive approach rather than a context-counting approach. [This paper](http://clic.cimec.unitn.it/marco/publications/acl2014/baroni-etal-countpredict-acl2014.pdf) compares and contrasts the two approaches. (Spoiler: it's kind of a wash.)\n",
    "* If you want to train your own word vectors on a particular corpus, the popular Python library [gensim](https://radimrehurek.com/gensim/) has an implementation of Word2Vec that is relatively easy to use. [There's a good tutorial here.](https://rare-technologies.com/word2vec-tutorial/)\n",
    "* When you're working with vector spaces with high dimensionality and millions of vectors, iterating through your entire space calculating cosine similarities can be a drag. I use [Annoy](https://pypi.python.org/pypi/annoy) to make these calculations faster, and you should consider using it too."
   ]
  }
 ],
 "metadata": {
  "kernelspec": {
   "display_name": "Python 3",
   "language": "python",
   "name": "python3"
  },
  "language_info": {
   "codemirror_mode": {
    "name": "ipython",
    "version": 3
   },
   "file_extension": ".py",
   "mimetype": "text/x-python",
   "name": "python",
   "nbconvert_exporter": "python",
   "pygments_lexer": "ipython3",
   "version": "3.7.3"
  }
 },
 "nbformat": 4,
 "nbformat_minor": 4
}
