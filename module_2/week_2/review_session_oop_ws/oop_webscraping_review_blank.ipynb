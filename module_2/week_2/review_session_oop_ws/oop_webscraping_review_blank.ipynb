{
 "cells": [
  {
   "cell_type": "markdown",
   "metadata": {
    "ein.tags": "worksheet-0",
    "slideshow": {
     "slide_type": "-"
    }
   },
   "source": [
    "# OOP and BeautifulSoup Review/Code Along"
   ]
  },
  {
   "cell_type": "markdown",
   "metadata": {
    "ein.tags": "worksheet-0",
    "slideshow": {
     "slide_type": "-"
    }
   },
   "source": [
    "This review will focus on webscraping and the transformation of data into useful python objects.\n",
    "The goal will be to build an album class which will have a method to calculate average song length.\n",
    "Let's begin by inspecting Outkast's [Wikipedia page](https://en.wikipedia.org/wiki/Outkast)\n",
    "\n",
    "We are going to use the artist page to navigate to each album page.\n",
    "Use option-cmd-i to open Developer Tools\n",
    "Use the request library, and then beautiful soup to create a list of links for each album."
   ]
  },
  {
   "cell_type": "code",
   "execution_count": 2,
   "metadata": {
    "autoscroll": false,
    "collapsed": false,
    "ein.hycell": false,
    "ein.tags": "worksheet-0",
    "jupyter": {
     "outputs_hidden": false
    },
    "slideshow": {
     "slide_type": "-"
    }
   },
   "outputs": [
    {
     "data": {
      "text/plain": [
       "['https://en.wikipedia.org/wiki/Southernplayalisticadillacmuzik',\n",
       " 'https://en.wikipedia.org/wiki/ATLiens',\n",
       " 'https://en.wikipedia.org/wiki/Aquemini',\n",
       " 'https://en.wikipedia.org/wiki/Stankonia',\n",
       " 'https://en.wikipedia.org/wiki/Speakerboxxx/The_Love_Below',\n",
       " 'https://en.wikipedia.org/wiki/Idlewild_(Outkast_album)']"
      ]
     },
     "execution_count": 2,
     "metadata": {},
     "output_type": "execute_result"
    }
   ],
   "source": [
    "import requests\n",
    "from bs4 import BeautifulSoup\n",
    "\n",
    "url = 'https://en.wikipedia.org/wiki/Outkast'\n"
   ]
  },
  {
   "cell_type": "markdown",
   "metadata": {
    "ein.tags": "worksheet-0",
    "slideshow": {
     "slide_type": "-"
    }
   },
   "source": [
    "Now that we have the links, let's inspect each albums webpage and figure out how to get the track information.\n",
    "Let's start with Southernplayalisticadillacmuzik\n",
    "\n",
    "Once we figure out where the data is, request the content and create a new soup object.\n"
   ]
  },
  {
   "cell_type": "code",
   "execution_count": 6,
   "metadata": {
    "autoscroll": false,
    "collapsed": false,
    "ein.hycell": false,
    "ein.tags": "worksheet-0",
    "jupyter": {
     "outputs_hidden": false
    },
    "slideshow": {
     "slide_type": "-"
    }
   },
   "outputs": [],
   "source": [
    "\n",
    "\n"
   ]
  },
  {
   "cell_type": "code",
   "execution_count": 7,
   "metadata": {
    "autoscroll": false,
    "collapsed": false,
    "ein.hycell": false,
    "ein.tags": "worksheet-0",
    "jupyter": {
     "outputs_hidden": false
    },
    "slideshow": {
     "slide_type": "-"
    }
   },
   "outputs": [
    {
     "data": {
      "text/plain": [
       "\"['0:51',\\n '2:40',\\n '5:39',\\n '0:58',\\n '5:18',\\n '6:06',\\n '4:21',\\n '4:43',\\n '0:25',\\n '6:31',\\n '1:15',\\n '7:27',\\n '1:16',\\n '5:10',\\n '3:59',\\n '5:31',\\n '2:20']\\n\""
      ]
     },
     "execution_count": 7,
     "metadata": {},
     "output_type": "execute_result"
    }
   ],
   "source": [
    "# Now isolate the song names and song times: \n",
    "# Hint, regex might help: you can try these regex patterns: '\".*\"', '\\d*:\\d*'\n",
    "# If you can't get the exact name and length,\n",
    "# still instantiate one album object with the\n",
    "# data below\n",
    "\n",
    "# answer\n",
    "'''['0:51',\n",
    " '2:40',\n",
    " '5:39',\n",
    " '0:58',\n",
    " '5:18',\n",
    " '6:06',\n",
    " '4:21',\n",
    " '4:43',\n",
    " '0:25',\n",
    " '6:31',\n",
    " '1:15',\n",
    " '7:27',\n",
    " '1:16',\n",
    " '5:10',\n",
    " '3:59',\n",
    " '5:31',\n",
    " '2:20']\n",
    "'''\n",
    "'''\n",
    "['\"Peaches (Intro)\"',\n",
    " '\"Myintrotoletuknow\"',\n",
    " '\"Ain\\'t No Thang\"',\n",
    " '\"Welcome to Atlanta (Interlude)\"',\n",
    " '\"Southernplayalisticadillacmuzik\"',\n",
    " '\"Call of da Wild\"',\n",
    " '\"Player\\'s Ball\"',\n",
    " '\"Claimin\\' True\"',\n",
    " '\"Club Donkey Ass (Interlude)\"',\n",
    " '\"Funky Ride\"',\n",
    " '\"Flim Flam (Interlude)\"',\n",
    " '\"Git Up, Git Out\"',\n",
    " '\"True Dat (Interlude)\"',\n",
    " '\"Crumblin\\' Erb\"',\n",
    " '\"Hootie Hoo\"',\n",
    " '\"D.E.E.P.\"',\n",
    " '\"Player\\'s Ball (Reprise)\"']\n",
    " '''"
   ]
  },
  {
   "cell_type": "markdown",
   "metadata": {
    "ein.tags": "worksheet-0",
    "slideshow": {
     "slide_type": "-"
    }
   },
   "source": [
    "Now that we have our track names and our track times, let's create an Album class."
   ]
  },
  {
   "cell_type": "code",
   "execution_count": 3,
   "metadata": {
    "autoscroll": false,
    "collapsed": false,
    "ein.hycell": false,
    "ein.tags": "worksheet-0",
    "jupyter": {
     "outputs_hidden": false
    },
    "slideshow": {
     "slide_type": "-"
    }
   },
   "outputs": [],
   "source": [
    "class Album:\n",
    "\n",
    "    def __init__(self, artist, title, track_list, track_times):\n",
    "        pass\n",
    "\n",
    "    def calculate_avg_song_length(self):\n",
    "        pass\n"
   ]
  },
  {
   "cell_type": "code",
   "execution_count": 74,
   "metadata": {
    "autoscroll": false,
    "collapsed": false,
    "ein.hycell": false,
    "ein.tags": "worksheet-0",
    "jupyter": {
     "outputs_hidden": false
    },
    "slideshow": {
     "slide_type": "-"
    }
   },
   "outputs": [
    {
     "data": {
      "text/plain": [
       "'Southernplayalisticadillacmuzik'"
      ]
     },
     "execution_count": 74,
     "metadata": {},
     "output_type": "execute_result"
    }
   ],
   "source": [
    "disco_links[0].split(\"/\")[-1]"
   ]
  },
  {
   "cell_type": "code",
   "execution_count": 5,
   "metadata": {
    "autoscroll": false,
    "collapsed": false,
    "ein.hycell": false,
    "ein.tags": "worksheet-0",
    "jupyter": {
     "outputs_hidden": false
    },
    "slideshow": {
     "slide_type": "-"
    }
   },
   "outputs": [],
   "source": [
    "# Let's create our first album object.\n",
    "\n",
    "# spcm = Album(artist, title, tracks, track_times)\n",
    "# print(spcm.track_times)\n",
    "# spcm.calculate_avg_song_length()\n"
   ]
  },
  {
   "cell_type": "code",
   "execution_count": 3,
   "metadata": {
    "autoscroll": false,
    "collapsed": false,
    "ein.hycell": false,
    "ein.tags": "worksheet-0",
    "jupyter": {
     "outputs_hidden": false
    },
    "slideshow": {
     "slide_type": "-"
    }
   },
   "outputs": [],
   "source": [
    "# Lastly, let's create some instance methods.\n",
    "# Let's revisit our Album class and define a method \n",
    "# calculate_average_length which, surprise surprise, \n",
    "# calculates average song length for an album"
   ]
  }
 ],
 "metadata": {
  "kernelspec": {
   "display_name": "Python 3",
   "language": "python",
   "name": "python3"
  },
  "language_info": {
   "codemirror_mode": {
    "name": "ipython",
    "version": 3
   },
   "file_extension": ".py",
   "mimetype": "text/x-python",
   "name": "python",
   "nbconvert_exporter": "python",
   "pygments_lexer": "ipython3",
   "version": "3.7.3"
  },
  "name": "oop_webscraping_review.ipynb"
 },
 "nbformat": 4,
 "nbformat_minor": 4
}
